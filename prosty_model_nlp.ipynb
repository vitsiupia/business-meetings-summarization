{
  "nbformat": 4,
  "nbformat_minor": 0,
  "metadata": {
    "colab": {
      "provenance": [],
      "authorship_tag": "ABX9TyOTu4+fe7CXLrLwxZ5shuCj",
      "include_colab_link": true
    },
    "kernelspec": {
      "name": "python3",
      "display_name": "Python 3"
    },
    "language_info": {
      "name": "python"
    }
  },
  "cells": [
    {
      "cell_type": "markdown",
      "metadata": {
        "id": "view-in-github",
        "colab_type": "text"
      },
      "source": [
        "<a href=\"https://colab.research.google.com/github/vitsiupia/projektPython/blob/main/prosty_model_nlp.ipynb\" target=\"_parent\"><img src=\"https://colab.research.google.com/assets/colab-badge.svg\" alt=\"Open In Colab\"/></a>"
      ]
    },
    {
      "cell_type": "code",
      "execution_count": 24,
      "metadata": {
        "colab": {
          "base_uri": "https://localhost:8080/"
        },
        "id": "Y3FwOy1rM7NN",
        "outputId": "22855e2b-f67a-4157-8b42-215dc27b514c"
      },
      "outputs": [
        {
          "output_type": "stream",
          "name": "stdout",
          "text": [
            "--2023-05-15 18:52:06--  https://github.com/vitsiupia/projektPython/raw/main/meetings_split.zip\n",
            "Resolving github.com (github.com)... 140.82.114.3\n",
            "Connecting to github.com (github.com)|140.82.114.3|:443... connected.\n",
            "HTTP request sent, awaiting response... 302 Found\n",
            "Location: https://raw.githubusercontent.com/vitsiupia/projektPython/main/meetings_split.zip [following]\n",
            "--2023-05-15 18:52:06--  https://raw.githubusercontent.com/vitsiupia/projektPython/main/meetings_split.zip\n",
            "Resolving raw.githubusercontent.com (raw.githubusercontent.com)... 185.199.108.133, 185.199.109.133, 185.199.110.133, ...\n",
            "Connecting to raw.githubusercontent.com (raw.githubusercontent.com)|185.199.108.133|:443... connected.\n",
            "HTTP request sent, awaiting response... 200 OK\n",
            "Length: 1027422 (1003K) [application/zip]\n",
            "Saving to: ‘meetings_split.zip.1’\n",
            "\n",
            "meetings_split.zip. 100%[===================>]   1003K  --.-KB/s    in 0.05s   \n",
            "\n",
            "2023-05-15 18:52:06 (18.9 MB/s) - ‘meetings_split.zip.1’ saved [1027422/1027422]\n",
            "\n"
          ]
        }
      ],
      "source": [
        "# Pobierzmy dane i zobaczmy jak wyglądają\n",
        "!wget 'https://github.com/vitsiupia/projektPython/raw/main/meetings_split.zip'"
      ]
    },
    {
      "cell_type": "code",
      "source": [
        "import zipfile\n",
        "with zipfile.ZipFile('meetings_split.zip', 'r') as zip:\n",
        "  zip.extractall()"
      ],
      "metadata": {
        "id": "m140oNRlNARF"
      },
      "execution_count": 25,
      "outputs": []
    },
    {
      "cell_type": "markdown",
      "source": [
        "## Wizualizacja danych\n",
        "\n",
        "Zobaczmy z czym pracujemy"
      ],
      "metadata": {
        "id": "5nWsxW5vNoZ5"
      }
    },
    {
      "cell_type": "code",
      "source": [
        "import os\n",
        "import random\n",
        "import textwrap\n",
        "\n",
        "def visualize_data(folder):\n",
        "    # Sprawdzenie czy folder istnieje\n",
        "    if not os.path.exists(folder):\n",
        "        print(f\"Folder '{folder}' nie istnieje.\")\n",
        "        return\n",
        "\n",
        "    transcripts = []\n",
        "    summaries = []\n",
        "\n",
        "    # Przejście przez pliki w folderze\n",
        "    for filename in os.listdir(folder):\n",
        "        if filename.endswith('.transcript.txt'):\n",
        "            transcripts.append(filename)\n",
        "        elif filename.endswith('.abssumm.txt'):\n",
        "            summaries.append(filename)\n",
        "\n",
        "    # Sprawdzenie czy istnieją zarówno transkrypty jak i podsumowania\n",
        "    if not transcripts or not summaries:\n",
        "        print(\"Brak zarówno transkryptów jak i podsumowań w folderze.\")\n",
        "        return\n",
        "\n",
        "    # Losowe wybranie pliku\n",
        "    random_file = random.choice(transcripts + summaries)\n",
        "\n",
        "    # Wybieranie transkryptu i podsumowania na podstawie losowego pliku\n",
        "    if random_file.endswith('.transcript.txt'):\n",
        "        transcript_file = random_file\n",
        "        summary_file = random_file.replace('.transcript.txt', '.abssumm.txt')\n",
        "    else:\n",
        "        summary_file = random_file\n",
        "        transcript_file = random_file.replace('.abssumm.txt', '.transcript.txt')\n",
        "\n",
        "    # Odczytanie treści transkryptu\n",
        "    with open(os.path.join(folder, transcript_file), 'r', encoding='utf-8') as file:\n",
        "        transcript_text = file.read()\n",
        "\n",
        "    # Odczytanie treści podsumowania\n",
        "    with open(os.path.join(folder, summary_file), 'r', encoding='utf-8') as file:\n",
        "        summary_text = file.read()\n",
        "\n",
        "    # Wyświetlanie transkryptu\n",
        "    print(f\"Transkrypt {transcript_file.split('.')[0]}:\")\n",
        "    lines = textwrap.wrap(transcript_text, width=80)\n",
        "    for line in lines:\n",
        "        print(line)\n",
        "\n",
        "    print()\n",
        "\n",
        "    # Wyświetlanie podsumowania\n",
        "    print(\"Podsumowanie:\")\n",
        "    lines = textwrap.wrap(summary_text, width=80)\n",
        "    for line in lines:\n",
        "        print(line)"
      ],
      "metadata": {
        "id": "lTKCOK8ONtK8"
      },
      "execution_count": 26,
      "outputs": []
    },
    {
      "cell_type": "code",
      "source": [
        "visualize_data('meetings_split/train')"
      ],
      "metadata": {
        "colab": {
          "base_uri": "https://localhost:8080/"
        },
        "id": "CQEb9rsxTUXX",
        "outputId": "5b870c42-fe19-4acb-8094-ae5345fb1051"
      },
      "execution_count": 27,
      "outputs": [
        {
          "output_type": "stream",
          "name": "stdout",
          "text": [
            "Transkrypt TS3003d:\n",
            "well richard came default spot onoff button mute button theres volume channel\n",
            "selectors simple plusminus button thought help button hold press another button\n",
            "help goes lcd screen theres zero one zero buttons button teletext button\n",
            "subtitles company logo rather simple prototype well see testing users take sure\n",
            "pop time think look controls theyve got buttons well onoff button necessity cant\n",
            "drop one volume channel buttons need obviously need mute button could replaced\n",
            "pressing volumedown button twice could cancel one think help button really\n",
            "necessary theres way know someone wants know button well cant leave number\n",
            "buttons guess rather basic already theyre rather hard draw whiteboard theyre\n",
            "supposed equal sized round little logo volume triangle stuff recognition\n",
            "materials weve chosen rubber buttons different colour case jump thats yes yes\n",
            "thats thats big cost leave display also save money chip isnt docking station\n",
            "isnt even c schematic even taken price could save money would make remote usable\n",
            "elderly people mother cant even send send sms message margin get small ten\n",
            "remote thats getting closer could scroll half second wont need button want use\n",
            "lcd screen need advanced chip yes v could leave one button think scroll page\n",
            "eighty eight eight hundred eighty eight could make two buttons press volume\n",
            "button control volume scrollwheel would save two buttons channel obvious leave\n",
            "buttons perhaps go flat flat case make smaller overall put volume channel\n",
            "buttons height onoff button screen right behi scroll button get much smaller\n",
            "remote sh richards argument good six four five yes havent thought one think\n",
            "thats three still think fancy flashy twendag sieven twendag yes thats true w\n",
            "enough room finance yes yes tasks structured step step easy well smartboard\n",
            "drawing pain ass digital digital pen nice yes flipover precise digit yes didnt\n",
            "work yes considering going make docking station perhaps good afternoon sorry\n",
            "little late got stuck traffic moment ask ask questions functionality youre\n",
            "teletext usually buttons press g go next teletext page think thats pointed\n",
            "earlier make control tv theres much gain since rechargeable damn wouldnt wouldnt\n",
            "option assume youd count volume channel thingies two buttons right well think\n",
            "actually therere two buttons arent well thinking maybe could integrate three\n",
            "numbers one button would cut cost think really four buttons anyhow yes docking\n",
            "station guess maybe different supplier thats wondering well since market\n",
            "research indicated older people spend money easier easy maybe feasible put price\n",
            "remote little especially since nice features would pretty rigid one b basically\n",
            "becoming choice either good remote higher production cost remote control\n",
            "scrollwheel work would bring price scrollwheel also integrated scrollwheel\n",
            "pushbutton think would end usability well think pretty much teletext subtitles\n",
            "right push teletext button go page eight eight eight teletext disappears\n",
            "subtitles stay think thats case well could scroll eight click scroll eight click\n",
            "scroll eight click would j pretty much option older people dont even know\n",
            "scrollwheel holding remote expect ten buttons numbers one zero five buttons\n",
            "scrollwheel true true thats pretty big scroll wheel five buttons right five well\n",
            "still think go single curve design changes really since id rather go board get\n",
            "us spend eighteen dollars remote market research see options yes definitely\n",
            "pretty different really group making remote really require lot marketing get\n",
            "sell cause older people familiar forms familiar stuff familiar gonna lotta\n",
            "convincing thats true might might confusing theyd five buttons youre sixty set\n",
            "criteria evaluation thingy thank five minutes literature study study analysis\n",
            "requirements set earlier translated criteria would remote fancy shape look feel\n",
            "innovative new functions easy use learnability important factor functional many\n",
            "functions among functions functions useful cost target group remote really group\n",
            "making recognability company easily recognisable company made supposed evaluate\n",
            "right lets see say little hard minutes last meeting interesting design fancy\n",
            "scale one seven go six good design innovative think lcd screen docking station\n",
            "scrollbuttons seven doable design easy use well would us id go four design\n",
            "functional functions want include think many functions dont think pretty slim\n",
            "seven take care biggest frustrations remote control getting lost rsi influences\n",
            "think production costs within preset limits well design fit group focus think\n",
            "doesnt dont know think think radio button exactly older people expect remote\n",
            "control sure think id go two company company recognisable well logo also\n",
            "supposed calculate score thought would another private thingy done gonna go room\n",
            "well anyhow seven factors times seven forty something two nine minus one minus\n",
            "three minus four minus four would minus eight forty one forty nine guess ill\n",
            "type bottom evaluation think finance thingy lot earlier design phase definitely\n",
            "much true wouldve liked go younger users also able access internet get something\n",
            "tried open file laptop possible shouldve done pen fifty grand still think mean n\n",
            "gonna make scrollbutton anyway itd younger people older people maybe refocus\n",
            "specifically younger people thats true think would way popular younger people\n",
            "would older people even covers party party probably youre supposed make final\n",
            "supposed go rooms thatd nice good afternoon hello problem thats possible time\n",
            "day starts three oclock let see fourth last meeting yes last meeting meeting\n",
            "discuss final design evaluation product also project going close project today\n",
            "well free go spend money design detailed design meeting discuss lookandfeel\n",
            "design usability interface design product evaluation order agenda well prototype\n",
            "presentation first set evaluation cri criteria look finance see everything wanna\n",
            "also possible within budget everything costs money functions wanna money cost\n",
            "see fits within twelve half euro per remote see later project evaluation closing\n",
            "weve got forty minutes finished half past three first prototype presentation\n",
            "somebody wants step forward thought meetings earlier tried keep simple buttons\n",
            "large buttons think altogether quite quite buttons wondering neely really need\n",
            "buttons thats right long time put teletext subtitles necessary somebody th\n",
            "interfa something design buttons n normal plain buttons thats nice thirty\n",
            "minutes left move finance part pretty exciting see possible wanna tell going\n",
            "pretty hard time producing twelve half euros see dont know ive filled correctly\n",
            "correct see something wrong counted two batteries maybe also use one dont know\n",
            "possible rechargeable thats right thats two euros need advanced chip theres much\n",
            "save single curves see difference uncurved single curved one euro dont know\n",
            "think single curved good design also display prominent place remote control\n",
            "think keep case material supplements plastic cheapest one need thats much save\n",
            "either biggest costs buttons maybe really try discard buttons keep costs low get\n",
            "twelve half euros end lets fir first count buttons sixteen nah even eighteen\n",
            "euros seventeen including help seventeen think discard help mute button pressing\n",
            "volume long pressing number long saves us one euro already cause got fifteen\n",
            "think fifteen buttons one think th stated files maybe even make one button\n",
            "volume channel one pressing thats possibility well good design well make lets\n",
            "see make looks bit cross plus min channel w th think count materials chip thats\n",
            "right thats right think advanced chip count one button think maybe seems\n",
            "impossible get twelve half euros also lc display think think expensive display\n",
            "use think try thats right whats big advantage remote thats extra thats extra\n",
            "thats right thats option poland something polish supplier dont think count v one\n",
            "button integrate th buttons three save lot money well thats point stick twelve\n",
            "half euros dont budget develop leave lc display use less buttons say take single\n",
            "chip w good looking think difficult well leave ten buttons take one scroll wheel\n",
            "programme numbers w save ten buttons five one see one weve got advanced w\n",
            "getting close maybe scroll scroll see numbers lcd display youve got right number\n",
            "push gotta scroll push push button well thats right scroll number wait half\n",
            "second g turns channel would definitely crop cost lot need battery regular chip\n",
            "possible advanced advanced save euro flat design thats option almost think thats\n",
            "big advantage use cant integrate teletext subtitles one button push three times\n",
            "ah thats really think make good advertisement television guide explain people\n",
            "use scroll wheel make real simple saves saves lot money keep lcd screen provide\n",
            "extra information use scroll wheel use bu buttons subtitles good innovative\n",
            "design well would erase eraser put looks bit odd maybe something weve got\n",
            "scrollwheel one two three four five buttons erase one two buttons thats really\n",
            "good good idea think make use scroll wheel obvious indeed make one volume one\n",
            "channel plus scroll thats right weve got one two three leave teletext want thats\n",
            "thats better thats right decrease one four buttons thats problem moulds made\n",
            "think single curved really easy fill cases come right machine single curved\n",
            "different different machine flat one think really easy one everybody think flat\n",
            "single curved design freek think cut costs ag ask money agreeing usability th\n",
            "think keep single curved one express lcd screen bit people use especially help\n",
            "functions good scroll bar scroll button necessary good help function well scroll\n",
            "think better price list bit earlier went whole design glad could make bit pretty\n",
            "different saw last one one think think thats right let l stick bit old old\n",
            "buttons maybe thats recognisable well thats good one afraid move b less\n",
            "frightening think see design think five buttons see thats definitely right would\n",
            "buy thats right would buy six dont know costs twelve half euros yes go project\n",
            "evaluation lets see sit think still fifteen minutes left nice schedule project\n",
            "process evaluation criteria thats right point forgot evaluation criteria go\n",
            "ahead weve got five minutes think criteria weve got fifteen minutes yes thats\n",
            "pen failed upload data tried giving errors downloading software think fancy six\n",
            "subtitles buttons seven weve got twenty cents docking station huh thats right\n",
            "thats bit dodgy would say four four five four five functional yes think seven\n",
            "worked ugly functional getting lost think new radio button think think better\n",
            "think would give four three yes wanna put fashion products slogan company\n",
            "removable front cases think recognisable weve got calculate n weve gonna going\n",
            "evaluate forty nine forty one thats around eighty percent thats eighty four\n",
            "percent think thats pretty nice score thank brings us project evaluation thank\n",
            "project process move right phases think along process thats right lack\n",
            "information prices satisfaction room creativity finance sheet room restrictions\n",
            "internet access leadership clear everybody according roles functions teamwork\n",
            "work working together also two last phase nice tasks means sufficient tasks much\n",
            "smartboard wants download data failed download smartboard irritating rather\n",
            "wanted flipover something else faster well think flipover need smart board\n",
            "application think think possible export image must must sharing information\n",
            "network pen table possible thats nice found new ideas kind meetings everybody\n",
            "puts score mediates score get one thats better thats call evaluation criteria\n",
            "ideas questions project product think get last sheet costs within budget docking\n",
            "station thats good point maybe docking station price remote also little bit\n",
            "higher think compensate well think shouldnt biggest problem cheap make well\n",
            "think gonna get twelve half million fifteen fifteen million think gonna export\n",
            "product innovative especially america people pretty decadent sometimes put\n",
            "market everybody change markets changing front covers thats one thing change\n",
            "also try reach younger people putting fancy covers market test see works thats\n",
            "think good advantage think little celebration right thats think still fit one\n",
            "questionnaire think dont know didnt get message ending think one five minutes\n",
            "thats nice still questions somebody questions ask put project folder well maybe\n",
            "thats export picture think another network guess somebody see project folder\n",
            "dont documents ill put documents thats think going make final presentation back\n",
            "ten minutes show final presentation summary project questionnaire think get\n",
            "questionnaire room ill meet think ten minutes something thank hopefully pen\n",
            "download software data thats normal th normal remote controls put came page one\n",
            "hundred use normal one zero buttons also use button th changing channel shifting\n",
            "button shif shifting teletext shifting build press one button disc discuss\n",
            "already think old people dont know option put put press button recognise dont\n",
            "need leds remote controls also use little display dont use nay u sixteen believe\n",
            "seventeen help button one button two one big button expensive small ones dont\n",
            "dont know cheaper weve still got four buttons got butt button chip youve got\n",
            "still four four buttons gonna buy remote control use must stay twelve fifty cant\n",
            "go nay impossible possible make one twelve fifty dont think cant use want make\n",
            "fancy good wi n attractive options stay twelve fifty scrollwheels one ja ja skip\n",
            "subtitle button big advantage push teletext button twice one one b buttons make\n",
            "f quite big remote remote control price small one pay double curved single\n",
            "curved bit th know scrollbuttons old radios cal also buttons changing channels\n",
            "maybe special six sh really old people w four n th test true go three flippers\n",
            "easier want share make picture presentation easier share people sh save put\n",
            "internet shared f folder sh shared directory export possible maybe n give\n",
            "numbers one sev easier th things computer l u university ah ah ah wheres\n",
            "champagne believe maybe save maybe fill another questionnaire\n",
            "\n",
            "Podsumowanie:\n",
            "In the detailed design meeting the team created a prototype. Along with buttons\n",
            "for numbers, channel selector, volume, mute, on-off, teletext, and subtitles,\n",
            "the prototype included an LCD screen and a help button for functional\n",
            "information. One rechargable battery, single-curve form and plastic case,\n",
            "brought the total cost to 17 Euros. To reduce this cost, it was decided to\n",
            "replace most buttons with a scrollwheel. The remaining buttons were one for\n",
            "channel selection, one for volume (both assisted by the scrollwheel), teletext,\n",
            "on-off and the help button. A suggestion to target the product to a younger or\n",
            "perhaps more general group was met with approval. All these components were re-\n",
            "arranged in a revised prototype. It was evaluated on a scale from 1 to 7 on the\n",
            "basis of the following criteria: fancy design (6), technological innovation (4),\n",
            "functionality (7), consideration of the target group (3). The remote was also\n",
            "recognisable as a fashionable Real Reaction product. The project process was\n",
            "deemed well-structured, although everyone thought it would have been better had\n",
            "they known the component prices at an earlier stage. Teamword and leadership\n",
            "were good, but room for creativity impeded by budget constraints.\n"
          ]
        }
      ]
    },
    {
      "cell_type": "markdown",
      "source": [
        "## Tworzenie prostego modelu NLP"
      ],
      "metadata": {
        "id": "31MfB0RuZ-1w"
      }
    },
    {
      "cell_type": "code",
      "source": [
        "import tensorflow as tf\n",
        "from tensorflow.keras.layers import Input, LSTM, Dense, Embedding\n",
        "from tensorflow.keras.models import Model\n",
        "\n",
        "def create_text_to_text_model(input_vocab_size, output_vocab_size, input_max_len, output_max_len, hidden_units):\n",
        "    # Warstwa kodująca (Encoder)\n",
        "    encoder_input = Input(shape=(input_max_len,))\n",
        "    encoder_embedding = Embedding(input_vocab_size, hidden_units, mask_zero=True)(encoder_input)\n",
        "    encoder_lstm = LSTM(hidden_units, return_state=True)\n",
        "    _, state_h, state_c = encoder_lstm(encoder_embedding)\n",
        "    encoder_state = [state_h, state_c]\n",
        "\n",
        "    # Warstwa dekodująca (Decoder)\n",
        "    decoder_input = Input(shape=(output_max_len,))\n",
        "    decoder_embedding = Embedding(output_vocab_size, hidden_units, mask_zero=True)(decoder_input)\n",
        "    decoder_lstm = LSTM(hidden_units, return_sequences=True, return_state=True)\n",
        "    decoder_output, _, _ = decoder_lstm(decoder_embedding, initial_state=encoder_state)\n",
        "    decoder_dense = Dense(output_vocab_size, activation='softmax')\n",
        "    decoder_output = decoder_dense(decoder_output)\n",
        "\n",
        "    # Tworzenie modelu\n",
        "    model = Model([encoder_input, decoder_input], decoder_output)\n",
        "    return model\n",
        "\n",
        "# Przykładowe użycie\n",
        "input_vocab_size = 10000\n",
        "output_vocab_size = 8000\n",
        "input_max_len = 100\n",
        "output_max_len = 80\n",
        "hidden_units = 256\n",
        "\n",
        "model = create_text_to_text_model(input_vocab_size, output_vocab_size, input_max_len, output_max_len, hidden_units)\n",
        "model.summary()"
      ],
      "metadata": {
        "colab": {
          "base_uri": "https://localhost:8080/"
        },
        "id": "U_KDYIc_Tjmg",
        "outputId": "41cc3af7-4629-4b38-af8d-cc4d18c7f9df"
      },
      "execution_count": 28,
      "outputs": [
        {
          "output_type": "stream",
          "name": "stdout",
          "text": [
            "Model: \"model_1\"\n",
            "__________________________________________________________________________________________________\n",
            " Layer (type)                   Output Shape         Param #     Connected to                     \n",
            "==================================================================================================\n",
            " input_3 (InputLayer)           [(None, 100)]        0           []                               \n",
            "                                                                                                  \n",
            " input_4 (InputLayer)           [(None, 80)]         0           []                               \n",
            "                                                                                                  \n",
            " embedding_2 (Embedding)        (None, 100, 256)     2560000     ['input_3[0][0]']                \n",
            "                                                                                                  \n",
            " embedding_3 (Embedding)        (None, 80, 256)      2048000     ['input_4[0][0]']                \n",
            "                                                                                                  \n",
            " lstm_2 (LSTM)                  [(None, 256),        525312      ['embedding_2[0][0]']            \n",
            "                                 (None, 256),                                                     \n",
            "                                 (None, 256)]                                                     \n",
            "                                                                                                  \n",
            " lstm_3 (LSTM)                  [(None, 80, 256),    525312      ['embedding_3[0][0]',            \n",
            "                                 (None, 256),                     'lstm_2[0][1]',                 \n",
            "                                 (None, 256)]                     'lstm_2[0][2]']                 \n",
            "                                                                                                  \n",
            " dense_1 (Dense)                (None, 80, 8000)     2056000     ['lstm_3[0][0]']                 \n",
            "                                                                                                  \n",
            "==================================================================================================\n",
            "Total params: 7,714,624\n",
            "Trainable params: 7,714,624\n",
            "Non-trainable params: 0\n",
            "__________________________________________________________________________________________________\n"
          ]
        }
      ]
    },
    {
      "cell_type": "markdown",
      "source": [
        "## Przygotowanie danych do ich wejścia do modelu"
      ],
      "metadata": {
        "id": "aIh8dppbaFee"
      }
    },
    {
      "cell_type": "code",
      "source": [
        "# Ścieżki do folderu z danymi treningowymi i walidacyjnymi\n",
        "train_data_dir = \"meetings_split/train\"\n",
        "val_data_dir = \"meetings_split/val\""
      ],
      "metadata": {
        "id": "zgqYC7U3Ww-z"
      },
      "execution_count": 12,
      "outputs": []
    },
    {
      "cell_type": "code",
      "source": [
        "import glob\n",
        "import os\n",
        "\n",
        "def load_data(transcript_files):\n",
        "    transcripts = []\n",
        "    summaries = []\n",
        "\n",
        "    for t_file in transcript_files:\n",
        "        t_filename = os.path.splitext(os.path.basename(t_file))[0]\n",
        "        s_file = os.path.join(os.path.dirname(t_file), t_filename + \".abssumm.txt\")\n",
        "\n",
        "        if os.path.isfile(s_file):\n",
        "            with open(t_file, 'r', encoding='utf-8') as f:\n",
        "                transcript = f.read().strip()\n",
        "                transcripts.append(transcript)\n",
        "\n",
        "            with open(s_file, 'r', encoding='utf-8') as f:\n",
        "                summary = f.read().strip()\n",
        "                summaries.append(summary)\n",
        "\n",
        "    return transcripts, summaries\n",
        "\n",
        "train_transcripts = glob.glob(\"meetings_split/train/*.txt\")\n",
        "train_transcripts = [t for t in train_transcripts if \".abssumm\" not in t]\n",
        "train_summaries = [t.replace('.transcript', '.abssumm') for t in train_transcripts]\n",
        "\n",
        "val_transcripts = glob.glob(\"meetings_split/val/*.txt\")\n",
        "val_transcripts = [t for t in val_transcripts if \".abssumm\" not in t]\n",
        "val_summaries = [t.replace('.transcript', '.abssumm') for t in val_transcripts]\n",
        "\n",
        "train_transcripts, train_summaries = load_data(train_transcripts)\n",
        "val_transcripts, val_summaries = load_data(val_transcripts)"
      ],
      "metadata": {
        "id": "TIZ5hHn7aLn-"
      },
      "execution_count": 20,
      "outputs": []
    },
    {
      "cell_type": "code",
      "source": [
        "from tensorflow.keras.preprocessing.text import Tokenizer\n",
        "\n",
        "tokenizer = Tokenizer()\n",
        "tokenizer.fit_on_texts(train_transcripts + train_summaries)"
      ],
      "metadata": {
        "id": "bcpageJnafWe"
      },
      "execution_count": 21,
      "outputs": []
    },
    {
      "cell_type": "code",
      "source": [
        "train_transcripts_encoded = tokenizer.texts_to_sequences(train_transcripts)\n",
        "train_summaries_encoded = tokenizer.texts_to_sequences(train_summaries)\n",
        "\n",
        "val_transcripts_encoded = tokenizer.texts_to_sequences(val_transcripts)\n",
        "val_summaries_encoded = tokenizer.texts_to_sequences(val_summaries)\n"
      ],
      "metadata": {
        "id": "DgMal_JtdfBQ"
      },
      "execution_count": 22,
      "outputs": []
    },
    {
      "cell_type": "code",
      "source": [
        "max_sequence_length = 100\n",
        "\n",
        "from tensorflow.keras.preprocessing.sequence import pad_sequences\n",
        "\n",
        "train_transcripts_padded = pad_sequences(train_transcripts_encoded, maxlen=max_sequence_length, padding='post')\n",
        "train_summaries_padded = pad_sequences(train_summaries_encoded, maxlen=max_sequence_length, padding='post')\n",
        "\n",
        "val_transcripts_padded = pad_sequences(val_transcripts_encoded, maxlen=max_sequence_length, padding='post')\n",
        "val_summaries_padded = pad_sequences(val_summaries_encoded, maxlen=max_sequence_length, padding='post')"
      ],
      "metadata": {
        "id": "Ps28dQp9dleH"
      },
      "execution_count": 23,
      "outputs": []
    },
    {
      "cell_type": "markdown",
      "source": [
        "## Kompilacja i trenowanie modelu"
      ],
      "metadata": {
        "id": "_nXEyCdjeaFg"
      }
    },
    {
      "cell_type": "code",
      "source": [
        "from tensorflow import keras\n",
        "\n",
        "# Kompilacja modelu\n",
        "model.compile(optimizer='adam',\n",
        "              loss='sparse_categorical_crossentropy',\n",
        "              metrics=['accuracy'])\n",
        "\n",
        "# Przetrenowanie modelu\n",
        "history = model.fit(train_inputs, train_outputs, validation_data=(val_inputs, val_outputs), batch_size=32, epochs=10)\n",
        "\n",
        "# Ocenianie modelu\n",
        "test_loss, test_accuracy = model.evaluate(test_inputs, test_outputs)\n",
        "print(\"Test Loss:\", test_loss)\n",
        "print(\"Test Accuracy:\", test_accuracy)"
      ],
      "metadata": {
        "id": "fJAbqazXdqWP"
      },
      "execution_count": null,
      "outputs": []
    }
  ]
}