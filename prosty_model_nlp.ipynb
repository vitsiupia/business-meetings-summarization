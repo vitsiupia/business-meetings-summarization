{
  "cells": [
    {
      "cell_type": "markdown",
      "metadata": {
        "id": "view-in-github",
        "colab_type": "text"
      },
      "source": [
        "<a href=\"https://colab.research.google.com/github/vitsiupia/projektPython/blob/main/prosty_model_nlp.ipynb\" target=\"_parent\"><img src=\"https://colab.research.google.com/assets/colab-badge.svg\" alt=\"Open In Colab\"/></a>"
      ]
    },
    {
      "cell_type": "code",
      "execution_count": 11,
      "metadata": {
        "colab": {
          "base_uri": "https://localhost:8080/"
        },
        "id": "Y3FwOy1rM7NN",
        "outputId": "20235b0f-8600-47c3-ffcb-9a676401547a"
      },
      "outputs": [
        {
          "output_type": "stream",
          "name": "stdout",
          "text": [
            "--2023-05-16 19:57:47--  https://github.com/vitsiupia/projektPython/raw/main/meetings_split.zip\n",
            "Resolving github.com (github.com)... 140.82.121.4\n",
            "Connecting to github.com (github.com)|140.82.121.4|:443... connected.\n",
            "HTTP request sent, awaiting response... 302 Found\n",
            "Location: https://raw.githubusercontent.com/vitsiupia/projektPython/main/meetings_split.zip [following]\n",
            "--2023-05-16 19:57:47--  https://raw.githubusercontent.com/vitsiupia/projektPython/main/meetings_split.zip\n",
            "Resolving raw.githubusercontent.com (raw.githubusercontent.com)... 185.199.108.133, 185.199.109.133, 185.199.110.133, ...\n",
            "Connecting to raw.githubusercontent.com (raw.githubusercontent.com)|185.199.108.133|:443... connected.\n",
            "HTTP request sent, awaiting response... 200 OK\n",
            "Length: 1027422 (1003K) [application/zip]\n",
            "Saving to: ‘meetings_split.zip.1’\n",
            "\n",
            "meetings_split.zip. 100%[===================>]   1003K  --.-KB/s    in 0.02s   \n",
            "\n",
            "2023-05-16 19:57:47 (55.2 MB/s) - ‘meetings_split.zip.1’ saved [1027422/1027422]\n",
            "\n"
          ]
        }
      ],
      "source": [
        "# Pobierzmy dane i zobaczmy jak wyglądają\n",
        "!wget 'https://github.com/vitsiupia/projektPython/raw/main/meetings_split.zip'"
      ]
    },
    {
      "cell_type": "code",
      "execution_count": 12,
      "metadata": {
        "id": "m140oNRlNARF"
      },
      "outputs": [],
      "source": [
        "import zipfile\n",
        "with zipfile.ZipFile('meetings_split.zip', 'r') as zip:\n",
        "  zip.extractall()"
      ]
    },
    {
      "cell_type": "markdown",
      "metadata": {
        "id": "5nWsxW5vNoZ5"
      },
      "source": [
        "## Wizualizacja danych\n",
        "\n",
        "Zobaczmy z czym pracujemy"
      ]
    },
    {
      "cell_type": "code",
      "execution_count": 13,
      "metadata": {
        "id": "lTKCOK8ONtK8"
      },
      "outputs": [],
      "source": [
        "import os\n",
        "import random\n",
        "import textwrap\n",
        "\n",
        "def visualize_data(folder):\n",
        "    # Sprawdzenie czy folder istnieje\n",
        "    if not os.path.exists(folder):\n",
        "        print(f\"Folder '{folder}' nie istnieje.\")\n",
        "        return\n",
        "\n",
        "    transcripts = []\n",
        "    summaries = []\n",
        "\n",
        "    # Przejście przez pliki w folderze\n",
        "    for filename in os.listdir(folder):\n",
        "        if filename.endswith('.transcript.txt'):\n",
        "            transcripts.append(filename)\n",
        "        elif filename.endswith('.abssumm.txt'):\n",
        "            summaries.append(filename)\n",
        "\n",
        "    # Sprawdzenie czy istnieją zarówno transkrypty jak i podsumowania\n",
        "    if not transcripts or not summaries:\n",
        "        print(\"Brak zarówno transkryptów jak i podsumowań w folderze.\")\n",
        "        return\n",
        "\n",
        "    # Losowe wybranie pliku\n",
        "    random_file = random.choice(transcripts + summaries)\n",
        "\n",
        "    # Wybieranie transkryptu i podsumowania na podstawie losowego pliku\n",
        "    if random_file.endswith('.transcript.txt'):\n",
        "        transcript_file = random_file\n",
        "        summary_file = random_file.replace('.transcript.txt', '.abssumm.txt')\n",
        "    else:\n",
        "        summary_file = random_file\n",
        "        transcript_file = random_file.replace('.abssumm.txt', '.transcript.txt')\n",
        "\n",
        "    # Odczytanie treści transkryptu\n",
        "    with open(os.path.join(folder, transcript_file), 'r', encoding='utf-8') as file:\n",
        "        transcript_text = file.read()\n",
        "\n",
        "    # Odczytanie treści podsumowania\n",
        "    with open(os.path.join(folder, summary_file), 'r', encoding='utf-8') as file:\n",
        "        summary_text = file.read()\n",
        "\n",
        "    # Wyświetlanie transkryptu\n",
        "    print(f\"Transkrypt {transcript_file.split('.')[0]}:\")\n",
        "    lines = textwrap.wrap(transcript_text, width=80)\n",
        "    for line in lines:\n",
        "        print(line)\n",
        "\n",
        "    print()\n",
        "\n",
        "    # Wyświetlanie podsumowania\n",
        "    print(\"Podsumowanie:\")\n",
        "    lines = textwrap.wrap(summary_text, width=80)\n",
        "    for line in lines:\n",
        "        print(line)"
      ]
    },
    {
      "cell_type": "code",
      "execution_count": 14,
      "metadata": {
        "colab": {
          "base_uri": "https://localhost:8080/"
        },
        "id": "CQEb9rsxTUXX",
        "outputId": "6c889a1f-0a9a-4e1e-ab8c-15fc93829855"
      },
      "outputs": [
        {
          "output_type": "stream",
          "name": "stdout",
          "text": [
            "Transkrypt TS3011b:\n",
            "time cup coffee get cup coffee well work time either think yes excuse still\n",
            "right thing well changes design requirements changes method also basically\n",
            "device send messages tv set easy way sending pulses infrared light tv set well\n",
            "th tried implement picture hardly readable see well theres energy source\n",
            "basically connected three things user interface connected chip connected sender\n",
            "generates messages using infrared light sent receiver thats basically idea\n",
            "theres little picture imagination device look look found usually kind things\n",
            "consist battery infrared diode buttons chips circuit board thats cased together\n",
            "nothing almost every piece equipment every piece every tv set controlled\n",
            "infrared exceptions infrared controls luxury remote controls lithium buttons\n",
            "think thats w yes little little bit fancy also maybe consider basic scheme\n",
            "things implemented basically theres one chip buttons connected buttons lit whole\n",
            "thing transmitted infrared li diode power source thats basically total design\n",
            "piece equipment theres nothing fairly easy done many times think c succeed plan\n",
            "personally think infra use infrared otherwise device cannot communicate almost\n",
            "every tv set think clear another important point really use energy sparse\n",
            "friendly components specially designed energyfriendly components consume far\n",
            "less power conventional components want use rechargeable design energysave\n",
            "design really implement costeffectiveness really use lowcost circuit board\n",
            "production cost part equipment money save using use elaborate fancy lighting\n",
            "techniques blinking leds kind fancy stuff think users really really theyre p f\n",
            "power friendly leds also use thats problem theyre theyre little bit expensive\n",
            "making make think yes well one light lights mobile device thats right thats\n",
            "right well think find finding function know thats quite yes yes yes yes focus\n",
            "guess well technical think technical difficulties theres elaborate technique\n",
            "used kind equipment dont think hiccups fully concentrate developing product\n",
            "really market needs maybe good idea think buttons sound signal well yes th thats\n",
            "bit thats problem usually yes yes well devices incorporate technique already\n",
            "video sets special button find remote control button press tv set starts make\n",
            "kind weird sound remote controls start beep yes yes thats yes thing use\n",
            "something else control tv set well yes yes b want make easy possible customers\n",
            "think quite complicated well quite complicated separate clapping sound sounds\n",
            "yes yes well basically characteristics characteristics clapping increase volume\n",
            "amplitude sound generated times within certain period time many sounds exactly\n",
            "point view remote control yes dont want maybe something well something f\n",
            "something easily well dont think important thing people theres central point go\n",
            "b perform kind remote control reports w use use something want another device\n",
            "everywhere house find first find remote control yes something costly think thats\n",
            "good idea yes yes w want warn implementing kind function technical design become\n",
            "complicated become costly also additional components used implepe imp well think\n",
            "p newspaper remote control cannot see thats question think also yes well save\n",
            "costs implementing lot functions money save use nice design thinking user\n",
            "interface thats right well maybe theres another possibility make look easy piece\n",
            "equipment quite elaborated many functions maybe important make make look\n",
            "friendly easy catch piece equipment nevertheless well thinking elaborate way\n",
            "controlling kinds sticks something dont know userfriendly thats field expertise\n",
            "theres theres way cannot implement kind system w well maybe use light move stick\n",
            "position maybe light next lit know ive pushed button changed channel turned\n",
            "volume something yes something really stick yes yes yes yes yes also looks fancy\n",
            "think think attract public think youre marketing man thats good want list\n",
            "functions want explicit list incorporates function available device yes change\n",
            "yes yes yes well youre secretary make make subfolder starting fill already sure\n",
            "yes thats important well sure sure well thats complicated relevant dont think\n",
            "shou know imagine imagine youre satellite decoder well six hundred channels\n",
            "imagine want youre regular tv user want watch dutch television networks well use\n",
            "ten buttons thats enough well often watch channels youre probably right think\n",
            "ten buttons look bit dull dont think design well done done something specific\n",
            "experiment shape size colour kind thing well maybe combined find remote control\n",
            "add speech recognition remote control easy change channel thats one thing easy\n",
            "find remote control maybe thats possibility afraid bit costly maybe well think\n",
            "work sh manage yes well voice recognition main adva another advantage mas makes\n",
            "easy us implement find find remote control button remote control function thats\n",
            "thats big advantage think theres one disadvantage implementing power saving\n",
            "power saving bit difficult expect less longer life batteries maybe think\n",
            "something smart hybrid hybrid devices incorporate solar panel rechargeable\n",
            "batteries leave device light room charges nothing maybe maybe ill find yes thats\n",
            "cheap cheap thats problem case two metal contacts yes theyre theyre mass\n",
            "production theyre cheap cost us p practically nothing profitable want make\n",
            "summary things spoken different possibilities basically weve decided implement\n",
            "seemingly easy design outside looks easy make easy inside elaborate inside thats\n",
            "one choices make think theres big advantage making elaborate implementing speech\n",
            "techniques voice recognition kinds things makes also attractable think audience\n",
            "advantages disadvantages main advantage implement fancy techniques think\n",
            "customers disadvantage concerns costs things battery lifetime energy saving\n",
            "another advantage circuit board become much easier implement buttons add chip\n",
            "voice recognition circuit board become even cheap thats another well wa w issue\n",
            "also thought already thought cheaply possible even makes cheapy circuit board\n",
            "fewer buttons ch ch cheaper circuit board yes cheap incorporate integrated\n",
            "circuit chip thats thats another advantage yes dont know yes really dont know\n",
            "costly maybe yes yes al hope personal coach lo look nice well understand well\n",
            "yes drop voice recognition well really decide decide next meeting ill updated\n",
            "info adapt lunch hello theres one mine hello flores slight problem opened cd rom\n",
            "box guys cancel opened cd rom box accidentally cant upload presentation believe\n",
            "dont think wireless great time yes ill start geez sli show press yes well w\n",
            "discussed already fin previous discussion method remote control function remote\n",
            "control basically send messages television set main important thing remote\n",
            "control found two different kind remote controls multifunction remote control\n",
            "many possibilities lack feeling already mentioned previous discussion easeofuse\n",
            "remote control less p possibilities great feeling touching buttons personal\n",
            "preferences ease easy use remote control userfriendliness trendy user design new\n",
            "goal f people less forty years old maybe multifunction implemented design b\n",
            "think combination teletext buttons design take well eight buttons opinion easy\n",
            "use rc best possi possibility us also indeed ruuds insight topic market want\n",
            "dont know user desi user friendliness choose ease use remote control scusi\n",
            "energies glow dark concept discussed succeed also whats use leds use much energy\n",
            "costs combined lowcost circuit board think think cell phone light device shines\n",
            "buttons button one led think could step little bit right thank sound signal\n",
            "volume zap buttons mostly used well design perfect design buttons first sound\n",
            "signal one thing wondering sound signal execute th sound another device solution\n",
            "maybe youll get new technologies phones tvs dont buttons believe convinced\n",
            "sebastian find one solution us home stat f base station next tv little antenna\n",
            "something well lost th dont think people would bother walking tv press button\n",
            "lost remote thats base station next tv best possibility even prefer sound leds\n",
            "lightning function unique item unique feature remote control user interface came\n",
            "easy remote control advanced remote control choose design well extra functions\n",
            "used option well th basic functions dont use dvd players kind stuff easy design\n",
            "make nice design theres mu much buttons buttons trendy design nice lightning\n",
            "effects wh sound dont know yet n use instead stick many cell phones round well\n",
            "use already blank easy way round button pushed four directions instead stick\n",
            "stick v vulnerab vulnerable falling round button trick think geez well volume\n",
            "something programme vol pen doesnt really want think next step look dont think\n",
            "something cant discuss right n one us information discuss think yes teletext\n",
            "scrapped ten digits one function programme programme button switch two channels\n",
            "something channel four something channel six one button change bsc w ten digits\n",
            "believe wouldnt buy personally remote control without ten digits think elder\n",
            "elder people would would buy older people use five design make decision ten\n",
            "digits voice recognition twelve dollar fifty nothing nothing add think cheaper\n",
            "ch chip th circuit board fewer buttons use well take look costs especially voice\n",
            "recognition done think neither interface industrial problem depends divisions\n",
            "decis decisions sebastian makes voice recognition well adapt thats ill take\n",
            "lunch welcome back let see roo welcome back waiting sebastian sorry cant sorry\n",
            "well life sorry roo people welcome back second meeting schedule points first\n",
            "opening second received new project requirements sure received well tell three\n",
            "prepared presentation think sebastian roo ruud almost well one la last top goal\n",
            "figure ca try w see top goal meeting reach decision product target group\n",
            "functions remote control keep mind forty minutes new project requirements first\n",
            "didnt speak support teletext remote b board feels teletext date internet\n",
            "replacing teletext even going try implement product board decision remote\n",
            "control used television f feasible w cannot make time market deal third\n",
            "requirement focus customers younger forty important ruud well roo product\n",
            "interesting bought people younger forty roo well important corporate image\n",
            "recognisable product colour colours slogan product clear questions requirements\n",
            "individual presentations th roo sebastian would start great uhhuh ruud get\n",
            "important thing market w sebastian visible fairly easy good question whether two\n",
            "four buttons makes makes difference costs already plan include fancy lightning\n",
            "techniques guess ruud well ar curio curious market feel product income welcome\n",
            "input well thats interesting thats definitely interesting separates product\n",
            "others well go thats market tells us well maybe maybe clapping hands turning\n",
            "lights reports rep respend response th home clapping technique se well see lot\n",
            "light lightning peak thats true well maybe w agree thing remote function\n",
            "possible within costs kind things maybe sebastian detailed look later come\n",
            "solution thats field expertise distinction market different exactly uni unique\n",
            "feature think worth looking probably interesting lights well according ruud\n",
            "people use extra features often well wise board questioning relevance scale\n",
            "channel selection volume selection teletext well skip think go easier one ruud\n",
            "feel agree think market would would respond simple kind manual mean buttons\n",
            "display mean guess l working shift functions one button remote report r give\n",
            "back user w state implement user history know use stick example could buttons\n",
            "advanced functions draw draw board break uhhuh w still still question putting\n",
            "advanced options ruud told us market interested advanced new techniques however\n",
            "keeping simple important costs kind things need find balance advanced techniques\n",
            "userfriendliness well decide meeting need user function functions decided target\n",
            "audience well want full necessary full list want kind functions example th\n",
            "important volume programme selecting well example thats think l remote going\n",
            "look user interface bit split mode l dual channel watch well maybe write ruud\n",
            "whats last name mielsen writing last mielsen right put minutes make shared\n",
            "folder want look know find thats thats want sebastian volume programme dual\n",
            "channel want ten digits agree actually thirteen different dutch channels often\n",
            "well depends looks c make fancy mean nokia ten digits phones still looks fancy\n",
            "agree exactly exactly speech find would drop ten digits keep programme volume\n",
            "maybe people always want use voice focus younger people board decision g good\n",
            "manage bu costs seems cradle cheap know b adapter well ten minutes left meeting\n",
            "would hear maybe maybe th things spoken important ruud came voice recognition\n",
            "data things market know although focussing younger people make profitable\n",
            "profitable still need take account bit older people roo nothing add sebastian\n",
            "great main issue right board board th way around shouldnt big issue sure well f\n",
            "determine costs look maybe get information sure great well think qui quite done\n",
            "lunch break dont know long break well find thirty minutes time perform\n",
            "individual work sure personal coaches assist put minutes made project documents\n",
            "folder want look well interface designer would next meeting would receive\n",
            "components concept roo would see sorry sorry user interface designer roo would\n",
            "see user interface c concept well easy thats w w concluded easy interface much\n",
            "buttons p p volume programme one fancy lights think thats decided didnt shouldnt\n",
            "integrated course user interface talking really design decide next meeting guess\n",
            "updated info sure marketing expert receive trend watching sure market change\n",
            "adapt see thats questions lunch good hello almost wireless could put b\n",
            "userfriendly well could lit buttons buttons used channel switching true mine\n",
            "already outdated since make well sure target market ten million units sell forty\n",
            "percent make five million since part forty percent market thought earlier might\n",
            "want constrain portion market since requirements changed thats good idea well\n",
            "skip well till true course use ten percent buttons buttons zap used fifteen\n",
            "hundred times power button used one time volume buttons four times theyre obv\n",
            "obviously important buttons lots people complained kin cant find remote control\n",
            "might want build feature support audio signal home phones well said well obvious\n",
            "also said thats yes mo zap buttons volume use lot buttons thats problem usually\n",
            "even tv set would button would walk tv b youd watching movie would constantly\n",
            "beep numbers r numbers right well wont support teletext thirdmost secondmost\n",
            "used function well channel selection obviously important nope well include\n",
            "innovative functions might cause young people new features use stick volume\n",
            "control channel selection two important functions one button younger huh also\n",
            "quite easy use itll attract younger people well new might attract older people\n",
            "easy use mielsen well want go channel ninety th button well targeting younger\n",
            "audience probably watch channels older people well numbers speech recognition\n",
            "younger people would might expensive hard implement would solution especially\n",
            "elder people dont voice recognition implement yes could inc include c cradle\n",
            "could recharge wouldnt big problem cause think dealt important information\n",
            "younger part market isnt forty percent want sell least bit look older people\n",
            "buttons easy use might attract dont think thats big problem yes profitable yes\n",
            "left\n",
            "\n",
            "Podsumowanie:\n",
            "There are some new requirements for the project: the device will have to be for\n",
            "TV only, they should ignore the teletext function, as it is dated, and, also,\n",
            "the remote should be recognisable as a Real Reaction product. The target group\n",
            "will be people below 40. The UI preferred an easy-to-use remote to a multi-\n",
            "function one. The function of the remote is relatively simple: by pressing a\n",
            "button a current is passed to the chip, and defines what signal is to be sent to\n",
            "the receiver (the TV) via infrared. The use of infrared, energy-efficient power\n",
            "source and cheap circuit was suggested. The remote could light up via LED's\n",
            "placed inside. Functions like zapping are very prevalent, as well as complaints\n",
            "about remotes being easy to lose. It also transpires that customers like\n",
            "innovative technology like speech recognition. The design can focus on such\n",
            "customer needs, like finding a mechanism to locate a lost remote. The functions\n",
            "of the remote will include a back button to switch between two channels, volume,\n",
            "program selection, and speech recognition, with a focus on simplicity of design.\n"
          ]
        }
      ],
      "source": [
        "visualize_data('meetings_split/train')"
      ]
    },
    {
      "cell_type": "markdown",
      "metadata": {
        "id": "31MfB0RuZ-1w"
      },
      "source": [
        "## Tworzenie prostego modelu NLP"
      ]
    },
    {
      "cell_type": "code",
      "execution_count": 38,
      "metadata": {
        "colab": {
          "base_uri": "https://localhost:8080/"
        },
        "id": "U_KDYIc_Tjmg",
        "outputId": "2aeece3b-2717-4e97-9e61-d1066bb1be00"
      },
      "outputs": [
        {
          "output_type": "stream",
          "name": "stdout",
          "text": [
            "Model: \"model_2\"\n",
            "__________________________________________________________________________________________________\n",
            " Layer (type)                   Output Shape         Param #     Connected to                     \n",
            "==================================================================================================\n",
            " input_5 (InputLayer)           [(None, 3900)]       0           []                               \n",
            "                                                                                                  \n",
            " input_6 (InputLayer)           [(None, 220)]        0           []                               \n",
            "                                                                                                  \n",
            " embedding_4 (Embedding)        (None, 3900, 256)    768000      ['input_5[0][0]']                \n",
            "                                                                                                  \n",
            " embedding_5 (Embedding)        (None, 220, 256)     512000      ['input_6[0][0]']                \n",
            "                                                                                                  \n",
            " lstm_4 (LSTM)                  [(None, 256),        525312      ['embedding_4[0][0]']            \n",
            "                                 (None, 256),                                                     \n",
            "                                 (None, 256)]                                                     \n",
            "                                                                                                  \n",
            " lstm_5 (LSTM)                  [(None, 220, 256),   525312      ['embedding_5[0][0]',            \n",
            "                                 (None, 256),                     'lstm_4[0][1]',                 \n",
            "                                 (None, 256)]                     'lstm_4[0][2]']                 \n",
            "                                                                                                  \n",
            " dense_2 (Dense)                (None, 220, 2000)    514000      ['lstm_5[0][0]']                 \n",
            "                                                                                                  \n",
            "==================================================================================================\n",
            "Total params: 2,844,624\n",
            "Trainable params: 2,844,624\n",
            "Non-trainable params: 0\n",
            "__________________________________________________________________________________________________\n"
          ]
        }
      ],
      "source": [
        "import tensorflow as tf\n",
        "from tensorflow.keras.layers import Input, LSTM, Dense, Embedding\n",
        "from tensorflow.keras.models import Model\n",
        "\n",
        "def create_text_to_text_model(input_vocab_size, output_vocab_size, input_max_len, output_max_len, hidden_units):\n",
        "    # Warstwa kodująca (Encoder)\n",
        "    encoder_input = Input(shape=(input_max_len,))\n",
        "    encoder_embedding = Embedding(input_vocab_size, hidden_units, mask_zero=True)(encoder_input)\n",
        "    encoder_lstm = LSTM(hidden_units, return_state=True)\n",
        "    _, state_h, state_c = encoder_lstm(encoder_embedding)\n",
        "    encoder_state = [state_h, state_c]\n",
        "\n",
        "    # Warstwa dekodująca (Decoder)\n",
        "    decoder_input = Input(shape=(output_max_len,))\n",
        "    decoder_embedding = Embedding(output_vocab_size, hidden_units, mask_zero=True)(decoder_input)\n",
        "    decoder_lstm = LSTM(hidden_units, return_sequences=True, return_state=True)\n",
        "    decoder_output, _, _ = decoder_lstm(decoder_embedding, initial_state=encoder_state)\n",
        "    decoder_dense = Dense(output_vocab_size, activation='softmax')\n",
        "    decoder_output = decoder_dense(decoder_output)\n",
        "\n",
        "    # Tworzenie modelu\n",
        "    model = Model([encoder_input, decoder_input], decoder_output)\n",
        "    return model\n",
        "\n",
        "# Przykładowe użycie\n",
        "input_vocab_size = 3000\n",
        "output_vocab_size = 2000\n",
        "input_max_len = 3900\n",
        "output_max_len = 220\n",
        "hidden_units = 256\n",
        "\n",
        "model = create_text_to_text_model(input_vocab_size, output_vocab_size, input_max_len, output_max_len, hidden_units)\n",
        "model.summary()"
      ]
    },
    {
      "cell_type": "markdown",
      "metadata": {
        "id": "aIh8dppbaFee"
      },
      "source": [
        "## Przygotowanie danych do ich wejścia do modelu"
      ]
    },
    {
      "cell_type": "code",
      "execution_count": 16,
      "metadata": {
        "id": "zgqYC7U3Ww-z"
      },
      "outputs": [],
      "source": [
        "# Ścieżki do folderu z danymi treningowymi i walidacyjnymi\n",
        "train_data_dir = \"meetings_split/train\"\n",
        "val_data_dir = \"meetings_split/val\""
      ]
    },
    {
      "cell_type": "code",
      "execution_count": 17,
      "metadata": {
        "colab": {
          "base_uri": "https://localhost:8080/"
        },
        "id": "TIZ5hHn7aLn-",
        "outputId": "f9ebcac6-57fa-4feb-a552-b5dc68200159"
      },
      "outputs": [
        {
          "output_type": "stream",
          "name": "stdout",
          "text": [
            "['meetings_split/train/ES2012a.transcript.txt', 'meetings_split/train/ES2007d.transcript.txt', 'meetings_split/train/ES2016d.transcript.txt', 'meetings_split/train/TS3008d.transcript.txt', 'meetings_split/train/TS3004a.transcript.txt', 'meetings_split/train/TS3012d.transcript.txt', 'meetings_split/train/TS3003c.transcript.txt', 'meetings_split/train/ES2016b.transcript.txt', 'meetings_split/train/IS1002c.transcript.txt', 'meetings_split/train/TS3007a.transcript.txt', 'meetings_split/train/IS1006d.transcript.txt', 'meetings_split/train/IS1000a.transcript.txt', 'meetings_split/train/TS3011b.transcript.txt', 'meetings_split/train/TS3011c.transcript.txt', 'meetings_split/train/TS3008b.transcript.txt', 'meetings_split/train/TS3010a.transcript.txt', 'meetings_split/train/TS3005c.transcript.txt', 'meetings_split/train/ES2012d.transcript.txt', 'meetings_split/train/ES2011d.transcript.txt', 'meetings_split/train/ES2006b.transcript.txt', 'meetings_split/train/IS1005a.transcript.txt', 'meetings_split/train/TS3006a.transcript.txt', 'meetings_split/train/IS1002b.transcript.txt', 'meetings_split/train/ES2012c.transcript.txt', 'meetings_split/train/ES2006c.transcript.txt', 'meetings_split/train/TS3011a.transcript.txt', 'meetings_split/train/ES2003a.transcript.txt', 'meetings_split/train/TS3010b.transcript.txt', 'meetings_split/train/ES2011c.transcript.txt', 'meetings_split/train/ES2005a.transcript.txt', 'meetings_split/train/TS3012a.transcript.txt', 'meetings_split/train/ES2016a.transcript.txt', 'meetings_split/train/ES2002a.transcript.txt', 'meetings_split/train/IS1000c.transcript.txt', 'meetings_split/train/TS3004d.transcript.txt', 'meetings_split/train/TS3007d.transcript.txt', 'meetings_split/train/IB4010.transcript.txt', 'meetings_split/train/TS3012b.transcript.txt', 'meetings_split/train/IS1008b.transcript.txt', 'meetings_split/train/ES2014a.transcript.txt', 'meetings_split/train/IS1009b.transcript.txt', 'meetings_split/train/ES2002d.transcript.txt', 'meetings_split/train/IS1007a.transcript.txt', 'meetings_split/train/TS3004b.transcript.txt', 'meetings_split/train/ES2002b.transcript.txt', 'meetings_split/train/ES2003c.transcript.txt', 'meetings_split/train/ES2014c.transcript.txt', 'meetings_split/train/ES2004d.transcript.txt', 'meetings_split/train/TS3007c.transcript.txt', 'meetings_split/train/TS3003a.transcript.txt', 'meetings_split/train/ES2003b.transcript.txt', 'meetings_split/train/IB4003.transcript.txt', 'meetings_split/train/ES2010b.transcript.txt', 'meetings_split/train/ES2009a.transcript.txt', 'meetings_split/train/TS3006b.transcript.txt', 'meetings_split/train/ES2007a.transcript.txt', 'meetings_split/train/ES2015c.transcript.txt', 'meetings_split/train/IS1006c.transcript.txt', 'meetings_split/train/ES2013d.transcript.txt', 'meetings_split/train/ES2016c.transcript.txt', 'meetings_split/train/ES2002c.transcript.txt', 'meetings_split/train/ES2007b.transcript.txt', 'meetings_split/train/ES2008b.transcript.txt', 'meetings_split/train/TS3004c.transcript.txt', 'meetings_split/train/IS1008d.transcript.txt', 'meetings_split/train/TS3003b.transcript.txt', 'meetings_split/train/ES2005d.transcript.txt', 'meetings_split/train/TS3009a.transcript.txt', 'meetings_split/train/ES2007c.transcript.txt', 'meetings_split/train/IS1007b.transcript.txt', 'meetings_split/train/TS3005a.transcript.txt', 'meetings_split/train/ES2015b.transcript.txt', 'meetings_split/train/ES2013b.transcript.txt', 'meetings_split/train/IS1000d.transcript.txt', 'meetings_split/train/TS3012c.transcript.txt', 'meetings_split/train/ES2009c.transcript.txt', 'meetings_split/train/ES2013c.transcript.txt', 'meetings_split/train/TS3009c.transcript.txt', 'meetings_split/train/ES2006a.transcript.txt', 'meetings_split/train/IS1007c.transcript.txt', 'meetings_split/train/IS1006a.transcript.txt', 'meetings_split/train/IS1001d.transcript.txt', 'meetings_split/train/IS1004b.transcript.txt', 'meetings_split/train/ES2015d.transcript.txt', 'meetings_split/train/TS3006d.transcript.txt', 'meetings_split/train/IS1001c.transcript.txt', 'meetings_split/train/ES2004a.transcript.txt', 'meetings_split/train/ES2013a.transcript.txt', 'meetings_split/train/IS1004d.transcript.txt', 'meetings_split/train/TS3009b.transcript.txt', 'meetings_split/train/ES2009d.transcript.txt', 'meetings_split/train/IS1008c.transcript.txt', 'meetings_split/train/IS1003b.transcript.txt', 'meetings_split/train/ES2006d.transcript.txt', 'meetings_split/train/IS1001b.transcript.txt', 'meetings_split/train/TS3008c.transcript.txt', 'meetings_split/train/IS1004a.transcript.txt', 'meetings_split/train/TS3007b.transcript.txt', 'meetings_split/train/ES2010d.transcript.txt', 'meetings_split/train/IS1008a.transcript.txt', 'meetings_split/train/IS1003d.transcript.txt', 'meetings_split/train/TS3011d.transcript.txt', 'meetings_split/train/TS3008a.transcript.txt', 'meetings_split/train/TS3005d.transcript.txt', 'meetings_split/train/ES2004b.transcript.txt', 'meetings_split/train/TS3003d.transcript.txt', 'meetings_split/train/IS1006b.transcript.txt', 'meetings_split/train/IS1002d.transcript.txt', 'meetings_split/train/ES2011b.transcript.txt', 'meetings_split/train/ES2005c.transcript.txt', 'meetings_split/train/TS3006c.transcript.txt', 'meetings_split/train/ES2014d.transcript.txt', 'meetings_split/train/ES2011a.transcript.txt', 'meetings_split/train/IS1000b.transcript.txt', 'meetings_split/train/ES2005b.transcript.txt', 'meetings_split/train/IS1009c.transcript.txt', 'meetings_split/train/ES2015a.transcript.txt', 'meetings_split/train/ES2010c.transcript.txt', 'meetings_split/train/IB4011.transcript.txt', 'meetings_split/train/TS3010c.transcript.txt']\n",
            "['meetings_split/train/ES2012a.abssumm.txt', 'meetings_split/train/ES2007d.abssumm.txt', 'meetings_split/train/ES2016d.abssumm.txt', 'meetings_split/train/TS3008d.abssumm.txt', 'meetings_split/train/TS3004a.abssumm.txt', 'meetings_split/train/TS3012d.abssumm.txt', 'meetings_split/train/TS3003c.abssumm.txt', 'meetings_split/train/ES2016b.abssumm.txt', 'meetings_split/train/IS1002c.abssumm.txt', 'meetings_split/train/TS3007a.abssumm.txt', 'meetings_split/train/IS1006d.abssumm.txt', 'meetings_split/train/IS1000a.abssumm.txt', 'meetings_split/train/TS3011b.abssumm.txt', 'meetings_split/train/TS3011c.abssumm.txt', 'meetings_split/train/TS3008b.abssumm.txt', 'meetings_split/train/TS3010a.abssumm.txt', 'meetings_split/train/TS3005c.abssumm.txt', 'meetings_split/train/ES2012d.abssumm.txt', 'meetings_split/train/ES2011d.abssumm.txt', 'meetings_split/train/ES2006b.abssumm.txt', 'meetings_split/train/IS1005a.abssumm.txt', 'meetings_split/train/TS3006a.abssumm.txt', 'meetings_split/train/IS1002b.abssumm.txt', 'meetings_split/train/ES2012c.abssumm.txt', 'meetings_split/train/ES2006c.abssumm.txt', 'meetings_split/train/TS3011a.abssumm.txt', 'meetings_split/train/ES2003a.abssumm.txt', 'meetings_split/train/TS3010b.abssumm.txt', 'meetings_split/train/ES2011c.abssumm.txt', 'meetings_split/train/ES2005a.abssumm.txt', 'meetings_split/train/TS3012a.abssumm.txt', 'meetings_split/train/ES2016a.abssumm.txt', 'meetings_split/train/ES2002a.abssumm.txt', 'meetings_split/train/IS1000c.abssumm.txt', 'meetings_split/train/TS3004d.abssumm.txt', 'meetings_split/train/TS3007d.abssumm.txt', 'meetings_split/train/IB4010.abssumm.txt', 'meetings_split/train/TS3012b.abssumm.txt', 'meetings_split/train/IS1008b.abssumm.txt', 'meetings_split/train/ES2014a.abssumm.txt', 'meetings_split/train/IS1009b.abssumm.txt', 'meetings_split/train/ES2002d.abssumm.txt', 'meetings_split/train/IS1007a.abssumm.txt', 'meetings_split/train/TS3004b.abssumm.txt', 'meetings_split/train/ES2002b.abssumm.txt', 'meetings_split/train/ES2003c.abssumm.txt', 'meetings_split/train/ES2014c.abssumm.txt', 'meetings_split/train/ES2004d.abssumm.txt', 'meetings_split/train/TS3007c.abssumm.txt', 'meetings_split/train/TS3003a.abssumm.txt', 'meetings_split/train/ES2003b.abssumm.txt', 'meetings_split/train/IB4003.abssumm.txt', 'meetings_split/train/ES2010b.abssumm.txt', 'meetings_split/train/ES2009a.abssumm.txt', 'meetings_split/train/TS3006b.abssumm.txt', 'meetings_split/train/ES2007a.abssumm.txt', 'meetings_split/train/ES2015c.abssumm.txt', 'meetings_split/train/IS1006c.abssumm.txt', 'meetings_split/train/ES2013d.abssumm.txt', 'meetings_split/train/ES2016c.abssumm.txt', 'meetings_split/train/ES2002c.abssumm.txt', 'meetings_split/train/ES2007b.abssumm.txt', 'meetings_split/train/ES2008b.abssumm.txt', 'meetings_split/train/TS3004c.abssumm.txt', 'meetings_split/train/IS1008d.abssumm.txt', 'meetings_split/train/TS3003b.abssumm.txt', 'meetings_split/train/ES2005d.abssumm.txt', 'meetings_split/train/TS3009a.abssumm.txt', 'meetings_split/train/ES2007c.abssumm.txt', 'meetings_split/train/IS1007b.abssumm.txt', 'meetings_split/train/TS3005a.abssumm.txt', 'meetings_split/train/ES2015b.abssumm.txt', 'meetings_split/train/ES2013b.abssumm.txt', 'meetings_split/train/IS1000d.abssumm.txt', 'meetings_split/train/TS3012c.abssumm.txt', 'meetings_split/train/ES2009c.abssumm.txt', 'meetings_split/train/ES2013c.abssumm.txt', 'meetings_split/train/TS3009c.abssumm.txt', 'meetings_split/train/ES2006a.abssumm.txt', 'meetings_split/train/IS1007c.abssumm.txt', 'meetings_split/train/IS1006a.abssumm.txt', 'meetings_split/train/IS1001d.abssumm.txt', 'meetings_split/train/IS1004b.abssumm.txt', 'meetings_split/train/ES2015d.abssumm.txt', 'meetings_split/train/TS3006d.abssumm.txt', 'meetings_split/train/IS1001c.abssumm.txt', 'meetings_split/train/ES2004a.abssumm.txt', 'meetings_split/train/ES2013a.abssumm.txt', 'meetings_split/train/IS1004d.abssumm.txt', 'meetings_split/train/TS3009b.abssumm.txt', 'meetings_split/train/ES2009d.abssumm.txt', 'meetings_split/train/IS1008c.abssumm.txt', 'meetings_split/train/IS1003b.abssumm.txt', 'meetings_split/train/ES2006d.abssumm.txt', 'meetings_split/train/IS1001b.abssumm.txt', 'meetings_split/train/TS3008c.abssumm.txt', 'meetings_split/train/IS1004a.abssumm.txt', 'meetings_split/train/TS3007b.abssumm.txt', 'meetings_split/train/ES2010d.abssumm.txt', 'meetings_split/train/IS1008a.abssumm.txt', 'meetings_split/train/IS1003d.abssumm.txt', 'meetings_split/train/TS3011d.abssumm.txt', 'meetings_split/train/TS3008a.abssumm.txt', 'meetings_split/train/TS3005d.abssumm.txt', 'meetings_split/train/ES2004b.abssumm.txt', 'meetings_split/train/TS3003d.abssumm.txt', 'meetings_split/train/IS1006b.abssumm.txt', 'meetings_split/train/IS1002d.abssumm.txt', 'meetings_split/train/ES2011b.abssumm.txt', 'meetings_split/train/ES2005c.abssumm.txt', 'meetings_split/train/TS3006c.abssumm.txt', 'meetings_split/train/ES2014d.abssumm.txt', 'meetings_split/train/ES2011a.abssumm.txt', 'meetings_split/train/IS1000b.abssumm.txt', 'meetings_split/train/ES2005b.abssumm.txt', 'meetings_split/train/IS1009c.abssumm.txt', 'meetings_split/train/ES2015a.abssumm.txt', 'meetings_split/train/ES2010c.abssumm.txt', 'meetings_split/train/IB4011.abssumm.txt', 'meetings_split/train/TS3010c.abssumm.txt']\n",
            "['meetings_split/val/IS1009d.transcript.txt', 'meetings_split/val/ES2003d.transcript.txt', 'meetings_split/val/ES2009b.transcript.txt', 'meetings_split/val/TS3009d.transcript.txt', 'meetings_split/val/IS1005b.transcript.txt', 'meetings_split/val/ES2008a.transcript.txt', 'meetings_split/val/TS3010d.transcript.txt', 'meetings_split/val/ES2008d.transcript.txt', 'meetings_split/val/IS1004c.transcript.txt', 'meetings_split/val/ES2004c.transcript.txt', 'meetings_split/val/ES2008c.transcript.txt', 'meetings_split/val/IS1003a.transcript.txt', 'meetings_split/val/ES2012b.transcript.txt', 'meetings_split/val/IS1003c.transcript.txt', 'meetings_split/val/IS1001a.transcript.txt', 'meetings_split/val/IB4005.transcript.txt', 'meetings_split/val/ES2014b.transcript.txt', 'meetings_split/val/IS1005c.transcript.txt', 'meetings_split/val/IS1009a.transcript.txt', 'meetings_split/val/ES2010a.transcript.txt', 'meetings_split/val/TS3005b.transcript.txt', 'meetings_split/val/IS1007d.transcript.txt']\n",
            "['meetings_split/val/IS1009d.abssumm.txt', 'meetings_split/val/ES2003d.abssumm.txt', 'meetings_split/val/ES2009b.abssumm.txt', 'meetings_split/val/TS3009d.abssumm.txt', 'meetings_split/val/IS1005b.abssumm.txt', 'meetings_split/val/ES2008a.abssumm.txt', 'meetings_split/val/TS3010d.abssumm.txt', 'meetings_split/val/ES2008d.abssumm.txt', 'meetings_split/val/IS1004c.abssumm.txt', 'meetings_split/val/ES2004c.abssumm.txt', 'meetings_split/val/ES2008c.abssumm.txt', 'meetings_split/val/IS1003a.abssumm.txt', 'meetings_split/val/ES2012b.abssumm.txt', 'meetings_split/val/IS1003c.abssumm.txt', 'meetings_split/val/IS1001a.abssumm.txt', 'meetings_split/val/IB4005.abssumm.txt', 'meetings_split/val/ES2014b.abssumm.txt', 'meetings_split/val/IS1005c.abssumm.txt', 'meetings_split/val/IS1009a.abssumm.txt', 'meetings_split/val/ES2010a.abssumm.txt', 'meetings_split/val/TS3005b.abssumm.txt', 'meetings_split/val/IS1007d.abssumm.txt']\n"
          ]
        }
      ],
      "source": [
        "import glob\n",
        "import os\n",
        "\n",
        "train_transcripts_list = glob.glob(\"meetings_split/train/*.txt\")\n",
        "train_transcripts_list = [t for t in train_transcripts_list if \".abssumm\" not in t]\n",
        "train_summaries_list = [t.replace('.transcript', '.abssumm') for t in train_transcripts_list]\n",
        "\n",
        "val_transcripts_list = glob.glob(\"meetings_split/val/*.txt\")\n",
        "val_transcripts_list = [t for t in val_transcripts_list if \".abssumm\" not in t]\n",
        "val_summaries_list = [t.replace('.transcript', '.abssumm') for t in val_transcripts_list]\n",
        "\n",
        "# Wyświetlenie ścieżek do plików, aby sprawdzić poprawność\n",
        "print(train_transcripts_list)\n",
        "print(train_summaries_list)\n",
        "print(val_transcripts_list)\n",
        "print(val_summaries_list)"
      ]
    },
    {
      "cell_type": "code",
      "execution_count": 27,
      "metadata": {
        "id": "Dp9uA9G9Jfsz"
      },
      "outputs": [],
      "source": [
        "import numpy as np\n",
        "\n",
        "# Funkcja do odczytywania zawartości plików tekstowych\n",
        "def read_text_files(file_paths):\n",
        "    texts = []\n",
        "    for file_path in file_paths:\n",
        "        with open(file_path, 'r', encoding='utf-8') as file:\n",
        "            text = file.read().strip()\n",
        "            texts.append(text)\n",
        "    return texts\n",
        "\n",
        "# Odczytanie zawartości plików train_transcripts i train_summaries\n",
        "train_transcripts_texts = read_text_files(train_transcripts_list)\n",
        "train_summaries_texts = read_text_files(train_summaries_list)\n",
        "\n",
        "# Odczytanie zawartości plików val_transcripts i val_summaries\n",
        "val_transcripts_texts = read_text_files(val_transcripts_list)\n",
        "val_summaries_texts = read_text_files(val_summaries_list)\n",
        "\n",
        "# Tworzenie tensorów dla train_transcripts i train_summaries\n",
        "train_transcripts_tensor = np.array([train_transcripts_texts, train_summaries_texts]).T\n",
        "\n",
        "# Tworzenie tensorów dla val_transcripts i val_summaries\n",
        "val_transcripts_tensor = np.array([val_transcripts_texts, val_summaries_texts]).T\n"
      ]
    },
    {
      "cell_type": "code",
      "execution_count": null,
      "metadata": {
        "id": "vArs9Kz9JwrW"
      },
      "outputs": [],
      "source": [
        "train_transcripts_tensor[0]"
      ]
    },
    {
      "cell_type": "markdown",
      "metadata": {
        "id": "_nXEyCdjeaFg"
      },
      "source": [
        "## Kompilacja i trenowanie modelu"
      ]
    },
    {
      "cell_type": "code",
      "source": [
        "# Jak duży zrobić padding?\n",
        "def find_longest_sequence(transcripts, summaries):\n",
        "    max_transcript_length = 0\n",
        "    max_summary_length = 0\n",
        "\n",
        "    for i in range(len(transcripts)):\n",
        "        with open(transcripts[i], 'r', encoding='utf-8') as t_file:\n",
        "            transcript = t_file.read().strip()\n",
        "        with open(summaries[i], 'r', encoding='utf-8') as s_file:\n",
        "            summary = s_file.read().strip()\n",
        "\n",
        "        transcript_length = len(transcript.split())\n",
        "        summary_length = len(summary.split())\n",
        "\n",
        "        if transcript_length > max_transcript_length:\n",
        "            max_transcript_length = transcript_length\n",
        "\n",
        "        if summary_length > max_summary_length:\n",
        "            max_summary_length = summary_length\n",
        "\n",
        "    return max_transcript_length, max_summary_length\n",
        "\n",
        "# Wywołanie funkcji dla Twoich danych\n",
        "max_transcript_length, max_summary_length = find_longest_sequence(train_transcripts_list, train_summaries_list)\n",
        "\n",
        "print(\"Najdłuższy transkrypt ma\", max_transcript_length, \"słów.\")\n",
        "print(\"Najdłuższe podsumowanie ma\", max_summary_length, \"słów.\")"
      ],
      "metadata": {
        "colab": {
          "base_uri": "https://localhost:8080/"
        },
        "id": "jE4O6rJZMIBG",
        "outputId": "e096274f-e4a2-4f95-8cb8-2c5b04ade4e4"
      },
      "execution_count": 34,
      "outputs": [
        {
          "output_type": "stream",
          "name": "stdout",
          "text": [
            "Najdłuższy transkrypt ma 3870 słów.\n",
            "Najdłuższe podsumowanie ma 201 słów.\n"
          ]
        }
      ]
    },
    {
      "cell_type": "code",
      "execution_count": 35,
      "metadata": {
        "id": "fJAbqazXdqWP"
      },
      "outputs": [],
      "source": [
        "import tensorflow as tf\n",
        "from tensorflow.keras.preprocessing.text import Tokenizer\n",
        "from tensorflow.keras.preprocessing.sequence import pad_sequences\n",
        "\n",
        "# Inicjalizacja tokenizera\n",
        "tokenizer = Tokenizer()\n",
        "\n",
        "# Dopasowanie tokenizera do tekstów transkryptów i podsumowań\n",
        "texts = np.concatenate([train_transcripts_tensor[:, 0], train_transcripts_tensor[:, 1]])\n",
        "tokenizer.fit_on_texts(texts)\n",
        "\n",
        "# Przekształcenie tekstów na sekwencje indeksów tokenów\n",
        "train_transcripts_sequences = tokenizer.texts_to_sequences(train_transcripts_tensor[:, 0])\n",
        "train_summaries_sequences = tokenizer.texts_to_sequences(train_transcripts_tensor[:, 1])\n",
        "val_transcripts_sequences = tokenizer.texts_to_sequences(val_transcripts_tensor[:, 0])\n",
        "val_summaries_sequences = tokenizer.texts_to_sequences(val_transcripts_tensor[:, 1])\n",
        "\n",
        "# Zastosowanie paddingu do sekwencji\n",
        "max_transcript_length = 3900  # Dostosuj wartość do oczekiwanej maksymalnej długości sekwencji\n",
        "max_summary_length = 220\n",
        "train_transcripts_padded = pad_sequences(train_transcripts_sequences, maxlen=max_transcript_length, padding='post')\n",
        "train_summaries_padded = pad_sequences(train_summaries_sequences, maxlen=max_summary_length, padding='post')\n",
        "val_transcripts_padded = pad_sequences(val_transcripts_sequences, maxlen=max_transcript_length, padding='post')\n",
        "val_summaries_padded = pad_sequences(val_summaries_sequences, maxlen=max_summary_length, padding='post')"
      ]
    },
    {
      "cell_type": "code",
      "source": [
        "train_labels = []\n",
        "val_labels = []\n",
        "\n",
        "train_labels = train_summaries_padded[:, 0:]\n",
        "val_labels = val_summaries_padded[:, 0:]"
      ],
      "metadata": {
        "id": "daNQqL3RKP9a"
      },
      "execution_count": 36,
      "outputs": []
    },
    {
      "cell_type": "code",
      "execution_count": 39,
      "metadata": {
        "id": "YdlG_PT0AgF9",
        "colab": {
          "base_uri": "https://localhost:8080/"
        },
        "outputId": "c2bc8785-ac21-4f02-bec8-7240392b49bd"
      },
      "outputs": [
        {
          "output_type": "stream",
          "name": "stdout",
          "text": [
            "Epoch 1/10\n",
            "4/4 [==============================] - 15s 1s/step - loss: nan - accuracy: 1.0306e-04 - val_loss: nan - val_accuracy: 0.0000e+00\n",
            "Epoch 2/10\n",
            "4/4 [==============================] - 2s 495ms/step - loss: nan - accuracy: 0.0000e+00 - val_loss: nan - val_accuracy: 0.0000e+00\n",
            "Epoch 3/10\n",
            "4/4 [==============================] - 2s 514ms/step - loss: nan - accuracy: 0.0000e+00 - val_loss: nan - val_accuracy: 0.0000e+00\n",
            "Epoch 4/10\n",
            "4/4 [==============================] - 3s 730ms/step - loss: nan - accuracy: 0.0000e+00 - val_loss: nan - val_accuracy: 0.0000e+00\n",
            "Epoch 5/10\n",
            "4/4 [==============================] - 2s 539ms/step - loss: nan - accuracy: 0.0000e+00 - val_loss: nan - val_accuracy: 0.0000e+00\n",
            "Epoch 6/10\n",
            "4/4 [==============================] - 2s 527ms/step - loss: nan - accuracy: 0.0000e+00 - val_loss: nan - val_accuracy: 0.0000e+00\n",
            "Epoch 7/10\n",
            "4/4 [==============================] - 2s 496ms/step - loss: nan - accuracy: 0.0000e+00 - val_loss: nan - val_accuracy: 0.0000e+00\n",
            "Epoch 8/10\n",
            "4/4 [==============================] - 2s 452ms/step - loss: nan - accuracy: 0.0000e+00 - val_loss: nan - val_accuracy: 0.0000e+00\n",
            "Epoch 9/10\n",
            "4/4 [==============================] - 2s 531ms/step - loss: nan - accuracy: 0.0000e+00 - val_loss: nan - val_accuracy: 0.0000e+00\n",
            "Epoch 10/10\n",
            "4/4 [==============================] - 3s 643ms/step - loss: nan - accuracy: 0.0000e+00 - val_loss: nan - val_accuracy: 0.0000e+00\n"
          ]
        }
      ],
      "source": [
        "# Kompilacja modelu\n",
        "model.compile(optimizer='adam', loss='sparse_categorical_crossentropy', metrics=['accuracy'])\n",
        "\n",
        "# Przetrenowanie modelu\n",
        "history = model.fit(\n",
        "    [train_transcripts_padded, train_summaries_padded],\n",
        "    train_labels,\n",
        "    validation_data=([val_transcripts_padded, val_summaries_padded], val_labels),\n",
        "    batch_size=32,\n",
        "    epochs=10\n",
        ")"
      ]
    },
    {
      "cell_type": "code",
      "source": [],
      "metadata": {
        "id": "isIShrVUJdKX"
      },
      "execution_count": null,
      "outputs": []
    }
  ],
  "metadata": {
    "accelerator": "GPU",
    "colab": {
      "provenance": [],
      "authorship_tag": "ABX9TyPE08NzlqeVvusXX3t8PGqO",
      "include_colab_link": true
    },
    "gpuClass": "standard",
    "kernelspec": {
      "display_name": "Python 3",
      "name": "python3"
    },
    "language_info": {
      "name": "python"
    }
  },
  "nbformat": 4,
  "nbformat_minor": 0
}