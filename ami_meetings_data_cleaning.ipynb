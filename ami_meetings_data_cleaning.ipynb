{
  "nbformat": 4,
  "nbformat_minor": 0,
  "metadata": {
    "colab": {
      "provenance": [],
      "gpuType": "T4",
      "authorship_tag": "ABX9TyMnPbfPw3ppp2an5cdtMnCh",
      "include_colab_link": true
    },
    "kernelspec": {
      "name": "python3",
      "display_name": "Python 3"
    },
    "language_info": {
      "name": "python"
    },
    "accelerator": "GPU",
    "gpuClass": "standard"
  },
  "cells": [
    {
      "cell_type": "markdown",
      "metadata": {
        "id": "view-in-github",
        "colab_type": "text"
      },
      "source": [
        "<a href=\"https://colab.research.google.com/github/vitsiupia/projektPython/blob/main/ami_meetings_data_cleaning.ipynb\" target=\"_parent\"><img src=\"https://colab.research.google.com/assets/colab-badge.svg\" alt=\"Open In Colab\"/></a>"
      ]
    },
    {
      "cell_type": "markdown",
      "source": [
        "W tekstach, którymi operujemy mamy dużo niepotrzebnych wyrazów. Są to wyrazy typu \"Umm\" \"Hmm\" \"Ahh\" itd., ale jako niepotrzebne wyrazy możemy właściwie uznawać też przyimki \"I\" i inne często powtarzające się słowa budujące wypowiedzi od strony gramatyki. Same w sobie nie niosą zbyt wiele informacji."
      ],
      "metadata": {
        "id": "3UxKIDDOKDbt"
      }
    },
    {
      "cell_type": "code",
      "execution_count": 1,
      "metadata": {
        "colab": {
          "base_uri": "https://localhost:8080/"
        },
        "id": "YrV97jiBJ-1v",
        "outputId": "6fea6933-0ee6-4656-e1d9-b7864ea1eed0"
      },
      "outputs": [
        {
          "output_type": "stream",
          "name": "stdout",
          "text": [
            "--2023-05-17 10:12:54--  https://github.com/vitsiupia/projektPython/raw/main/ami_meetings.zip\n",
            "Resolving github.com (github.com)... 192.30.255.112\n",
            "Connecting to github.com (github.com)|192.30.255.112|:443... connected.\n",
            "HTTP request sent, awaiting response... 302 Found\n",
            "Location: https://raw.githubusercontent.com/vitsiupia/projektPython/main/ami_meetings.zip [following]\n",
            "--2023-05-17 10:12:55--  https://raw.githubusercontent.com/vitsiupia/projektPython/main/ami_meetings.zip\n",
            "Resolving raw.githubusercontent.com (raw.githubusercontent.com)... 185.199.108.133, 185.199.109.133, 185.199.110.133, ...\n",
            "Connecting to raw.githubusercontent.com (raw.githubusercontent.com)|185.199.108.133|:443... connected.\n",
            "HTTP request sent, awaiting response... 200 OK\n",
            "Length: 1910215 (1.8M) [application/zip]\n",
            "Saving to: ‘ami_meetings.zip’\n",
            "\n",
            "ami_meetings.zip    100%[===================>]   1.82M  --.-KB/s    in 0.03s   \n",
            "\n",
            "2023-05-17 10:12:55 (58.8 MB/s) - ‘ami_meetings.zip’ saved [1910215/1910215]\n",
            "\n"
          ]
        }
      ],
      "source": [
        "# pobieramy dane z githuba\n",
        "\n",
        "!wget 'https://github.com/vitsiupia/projektPython/raw/main/ami_meetings.zip'\n",
        "# pamiętajmy o tym, że linkujemy do pliku raw"
      ]
    },
    {
      "cell_type": "code",
      "source": [
        "# Rozpakowujemy je\n",
        "import zipfile\n",
        "# Unzip the file\n",
        "zip_ref = zipfile.ZipFile('ami_meetings.zip')\n",
        "zip_ref.extractall('ami_meetings')\n",
        "zip_ref.close()"
      ],
      "metadata": {
        "id": "MWQqHvDiLrNa"
      },
      "execution_count": 2,
      "outputs": []
    },
    {
      "cell_type": "markdown",
      "source": [
        "Teraz możemy przyjrzeć się danym. Poza \"stop words\" mamy także interpunkcję i duże litery. Może spróbujmy to usunąć.\n",
        "\n",
        "**Oto nasz plan działania:**\n",
        "1. Usunąć interpuncję\n",
        "2. Zamienić wszystkie duże litery na małe\n",
        "3. Usunąć \"stop-words\" - to na końcu, bo lista stopwords, którą pobierzemy zawiera tylko słowa z małych liter"
      ],
      "metadata": {
        "id": "rdyFtci2Nb0b"
      }
    },
    {
      "cell_type": "code",
      "source": [
        "# Utwórzmy najpierw foldery, do których będziemy zapisywać przetworzone dane\n",
        "\n",
        "!mkdir 'ami_meetings_preprocessed'\n",
        "!mkdir 'ami_meetings_preprocessed/transcripts'\n",
        "\n",
        "# Chcemy aby podsumowania w nowym folderze były dokładną kopią podsumowań\n",
        "# z folderu oryginalnego\n",
        "import shutil\n",
        "\n",
        "# Utwórz dokładną kopię folderu 'ami_meetings/abstractive' w folderze 'ami_meetings_preprocessed/abstractive'\n",
        "shutil.copytree('ami_meetings/abstractive', 'ami_meetings_preprocessed/abstractive')"
      ],
      "metadata": {
        "colab": {
          "base_uri": "https://localhost:8080/",
          "height": 35
        },
        "id": "J1gWDcp2PKPp",
        "outputId": "8b0e37ab-cb54-4798-90aa-bb597bd494fb"
      },
      "execution_count": 3,
      "outputs": [
        {
          "output_type": "execute_result",
          "data": {
            "text/plain": [
              "'ami_meetings_preprocessed/abstractive'"
            ],
            "application/vnd.google.colaboratory.intrinsic+json": {
              "type": "string"
            }
          },
          "metadata": {},
          "execution_count": 3
        }
      ]
    },
    {
      "cell_type": "markdown",
      "source": [
        "## Usuwanie interpunkcji"
      ],
      "metadata": {
        "id": "At4O2iXgOEaQ"
      }
    },
    {
      "cell_type": "code",
      "source": [
        "import string\n",
        "import os\n",
        "\n",
        "# Przejdź przez wszystkie pliki w folderze 'ami_meetings/transcripts'\n",
        "for filename in os.listdir('ami_meetings/transcripts/'):\n",
        "    with open('ami_meetings/transcripts/' + filename, 'r') as file:\n",
        "        # Odczytaj zawartość pliku\n",
        "        content = file.read()\n",
        "        # Usuń interpunkcję\n",
        "        content = content.translate(str.maketrans('', '', string.punctuation))\n",
        "        # Zapisz zmienioną zawartość do pliku o takiej samej nazwie w folderze 'ami_meetings_preprocessed/transcripts/'\n",
        "        with open('ami_meetings_preprocessed/transcripts/' + filename, 'w') as output_file:\n",
        "            output_file.write(content)"
      ],
      "metadata": {
        "id": "Ty_quqqhOBrT"
      },
      "execution_count": 4,
      "outputs": []
    },
    {
      "cell_type": "code",
      "source": [
        "import string\n",
        "import os\n",
        "\n",
        "# Przejdź przez wszystkie pliki w folderze 'ami_meetings/transcripts'\n",
        "for filename in os.listdir('ami_meetings/abstractive/'):\n",
        "    with open('ami_meetings/abstractive/' + filename, 'r') as file:\n",
        "        # Odczytaj zawartość pliku\n",
        "        content = file.read()\n",
        "        # Usuń interpunkcję\n",
        "        content = content.translate(str.maketrans('', '', string.punctuation))\n",
        "        # Zapisz zmienioną zawartość do pliku o takiej samej nazwie w folderze 'ami_meetings_preprocessed/transcripts/'\n",
        "        with open('ami_meetings_preprocessed/abstractive/' + filename, 'w') as output_file:\n",
        "            output_file.write(content)"
      ],
      "metadata": {
        "id": "a4HBEJudNJf7"
      },
      "execution_count": 5,
      "outputs": []
    },
    {
      "cell_type": "markdown",
      "source": [
        "Doskonale! Udało się usunąć interpunkcję!"
      ],
      "metadata": {
        "id": "1JEQn_iZTa8D"
      }
    },
    {
      "cell_type": "markdown",
      "source": [
        "##Zamiana znaków na małe"
      ],
      "metadata": {
        "id": "1jTSIbD2Tjqk"
      }
    },
    {
      "cell_type": "code",
      "source": [
        "import os\n",
        "\n",
        "# Przejdź przez wszystkie pliki w folderze 'ami_meetings_preprocessed/transcripts/'\n",
        "for filename in os.listdir('ami_meetings_preprocessed/transcripts/'):\n",
        "    with open('ami_meetings_preprocessed/transcripts/' + filename, 'r') as file:\n",
        "        # Odczytaj zawartość pliku\n",
        "        content = file.read()\n",
        "        # Zamień wszystkie duże litery na małe\n",
        "        content = content.lower()\n",
        "        # Zapisz zmienioną zawartość do pliku, nadpisując go\n",
        "        with open('ami_meetings_preprocessed/transcripts/' + filename, 'w') as output_file:\n",
        "            output_file.write(content)"
      ],
      "metadata": {
        "id": "bbI8XljGThEs"
      },
      "execution_count": 6,
      "outputs": []
    },
    {
      "cell_type": "code",
      "source": [
        "import os\n",
        "\n",
        "# Przejdź przez wszystkie pliki w folderze 'ami_meetings_preprocessed/transcripts/'\n",
        "for filename in os.listdir('ami_meetings_preprocessed/abstractive/'):\n",
        "    with open('ami_meetings_preprocessed/abstractive/' + filename, 'r') as file:\n",
        "        # Odczytaj zawartość pliku\n",
        "        content = file.read()\n",
        "        # Zamień wszystkie duże litery na małe\n",
        "        content = content.lower()\n",
        "        # Zapisz zmienioną zawartość do pliku, nadpisując go\n",
        "        with open('ami_meetings_preprocessed/abstractive/' + filename, 'w') as output_file:\n",
        "            output_file.write(content)"
      ],
      "metadata": {
        "id": "z4N__8luNXLS"
      },
      "execution_count": 7,
      "outputs": []
    },
    {
      "cell_type": "markdown",
      "source": [
        "## Usuwanie stop-words"
      ],
      "metadata": {
        "id": "TB3kDBO5UCYj"
      }
    },
    {
      "cell_type": "code",
      "source": [
        "import nltk\n",
        "nltk.download('stopwords')"
      ],
      "metadata": {
        "id": "gsU_AjxQUH0w",
        "colab": {
          "base_uri": "https://localhost:8080/"
        },
        "outputId": "92eee3bb-cdf4-4abe-b097-3891f6463f60"
      },
      "execution_count": 12,
      "outputs": [
        {
          "output_type": "stream",
          "name": "stderr",
          "text": [
            "[nltk_data] Downloading package stopwords to /root/nltk_data...\n",
            "[nltk_data]   Package stopwords is already up-to-date!\n"
          ]
        },
        {
          "output_type": "execute_result",
          "data": {
            "text/plain": [
              "True"
            ]
          },
          "metadata": {},
          "execution_count": 12
        }
      ]
    },
    {
      "cell_type": "code",
      "source": [
        "from nltk.corpus import stopwords\n",
        "print(stopwords.words('english'))"
      ],
      "metadata": {
        "id": "30ZwJNf0URJs",
        "colab": {
          "base_uri": "https://localhost:8080/"
        },
        "outputId": "74511ced-c06c-4a81-c0cf-a5287d131581"
      },
      "execution_count": 17,
      "outputs": [
        {
          "output_type": "stream",
          "name": "stdout",
          "text": [
            "['i', 'me', 'my', 'myself', 'we', 'our', 'ours', 'ourselves', 'you', \"you're\", \"you've\", \"you'll\", \"you'd\", 'your', 'yours', 'yourself', 'yourselves', 'he', 'him', 'his', 'himself', 'she', \"she's\", 'her', 'hers', 'herself', 'it', \"it's\", 'its', 'itself', 'they', 'them', 'their', 'theirs', 'themselves', 'what', 'which', 'who', 'whom', 'this', 'that', \"that'll\", 'these', 'those', 'am', 'is', 'are', 'was', 'were', 'be', 'been', 'being', 'have', 'has', 'had', 'having', 'do', 'does', 'did', 'doing', 'a', 'an', 'the', 'and', 'but', 'if', 'or', 'because', 'as', 'until', 'while', 'of', 'at', 'by', 'for', 'with', 'about', 'against', 'between', 'into', 'through', 'during', 'before', 'after', 'above', 'below', 'to', 'from', 'up', 'down', 'in', 'out', 'on', 'off', 'over', 'under', 'again', 'further', 'then', 'once', 'here', 'there', 'when', 'where', 'why', 'how', 'all', 'any', 'both', 'each', 'few', 'more', 'most', 'other', 'some', 'such', 'no', 'nor', 'not', 'only', 'own', 'same', 'so', 'than', 'too', 'very', 's', 't', 'can', 'will', 'just', 'don', \"don't\", 'should', \"should've\", 'now', 'd', 'll', 'm', 'o', 're', 've', 'y', 'ain', 'aren', \"aren't\", 'couldn', \"couldn't\", 'didn', \"didn't\", 'doesn', \"doesn't\", 'hadn', \"hadn't\", 'hasn', \"hasn't\", 'haven', \"haven't\", 'isn', \"isn't\", 'ma', 'mightn', \"mightn't\", 'mustn', \"mustn't\", 'needn', \"needn't\", 'shan', \"shan't\", 'shouldn', \"shouldn't\", 'wasn', \"wasn't\", 'weren', \"weren't\", 'won', \"won't\", 'wouldn', \"wouldn't\"]\n"
          ]
        }
      ]
    },
    {
      "cell_type": "markdown",
      "source": [
        "Po przejrzeniu pobranych stopwords i wcześniejszym przejrzeniu tekstów, jakimi pracujemy, narzuca się jedno:\n",
        "\n",
        "Brakuje \"yeah\", \"ok\", \"kay\", \"gosh\", \"mmhmm\", \"hmm\", \"mm\", \"m\", \"uh\" czyli czegoś co występuje u nas **bardzo** często."
      ],
      "metadata": {
        "id": "igVvUsbGVKlL"
      }
    },
    {
      "cell_type": "code",
      "source": [
        "# stwórzmy nową listę, łączą pobrane 'stopwords' z naszymi własnymi propozycjami\n",
        "stopwords_list = stopwords.words('english') + ['yeah',\n",
        "                                               'ok', \n",
        "                                               'kay', \n",
        "                                               'gosh', \n",
        "                                               'mmhmm', \n",
        "                                               'hmm', \n",
        "                                               'mm', \n",
        "                                               'm', \n",
        "                                               'uh',\n",
        "                                               'okay',\n",
        "                                               'yep',\n",
        "                                               'um',\n",
        "                                               'oh',\n",
        "                                               'im',\n",
        "                                               'like',\n",
        "                                               'alright',\n",
        "                                               'sure']"
      ],
      "metadata": {
        "id": "O5X0lKh8Uhaw"
      },
      "execution_count": 18,
      "outputs": []
    },
    {
      "cell_type": "code",
      "source": [
        "# Przejdź przez wszystkie pliki w folderze 'ami_meetings_preprocessed/transcripts/'\n",
        "for filename in os.listdir('ami_meetings_preprocessed/transcripts/'):\n",
        "    with open('ami_meetings_preprocessed/transcripts/' + filename, 'r') as file:\n",
        "        # Odczytaj zawartość pliku\n",
        "        content = file.read()\n",
        "        # Zamień wszystkie duże litery na małe\n",
        "        content = content.lower()\n",
        "        # Usuń stopwords oraz dodatkowe słowa\n",
        "        words = content.split()\n",
        "        filtered_words = [word for word in words if word not in stopwords_list]\n",
        "        content = ' '.join(filtered_words)\n",
        "        # Zapisz zmienioną zawartość do pliku, nadpisując go\n",
        "        with open('ami_meetings_preprocessed/transcripts/' + filename, 'w') as output_file:\n",
        "            output_file.write(content)"
      ],
      "metadata": {
        "id": "ZEKWkTKkXBsj"
      },
      "execution_count": 19,
      "outputs": []
    },
    {
      "cell_type": "markdown",
      "source": [
        "## Eksportowanie folderu do zip"
      ],
      "metadata": {
        "id": "ulV56vi3X72h"
      }
    },
    {
      "cell_type": "code",
      "source": [
        "import os\n",
        "import zipfile\n",
        "def zipdir(path, ziph):\n",
        "    # ziph is zipfile handle\n",
        "    for root, dirs, files in os.walk(path):\n",
        "        for file in files:\n",
        "            ziph.write(os.path.join(root, file))\n",
        "zipf = zipfile.ZipFile('ami_meetings_preprocessed_ALL.zip', 'w', zipfile.ZIP_DEFLATED)\n",
        "zipdir('ami_meetings_preprocessed', zipf)\n",
        "zipf.close()"
      ],
      "metadata": {
        "id": "UJiDn3XuX-4H"
      },
      "execution_count": 21,
      "outputs": []
    },
    {
      "cell_type": "code",
      "source": [],
      "metadata": {
        "id": "-0RcVq5VOU7N"
      },
      "execution_count": null,
      "outputs": []
    }
  ]
}