{
  "nbformat": 4,
  "nbformat_minor": 0,
  "metadata": {
    "colab": {
      "provenance": [],
      "authorship_tag": "ABX9TyPuTOKy5eMqUKH6EwkWcOk2",
      "include_colab_link": true
    },
    "kernelspec": {
      "name": "python3",
      "display_name": "Python 3"
    },
    "language_info": {
      "name": "python"
    }
  },
  "cells": [
    {
      "cell_type": "markdown",
      "metadata": {
        "id": "view-in-github",
        "colab_type": "text"
      },
      "source": [
        "<a href=\"https://colab.research.google.com/github/vitsiupia/business-meetings-summarization/blob/main/ami_split_untouched.ipynb\" target=\"_parent\"><img src=\"https://colab.research.google.com/assets/colab-badge.svg\" alt=\"Open In Colab\"/></a>"
      ]
    },
    {
      "cell_type": "code",
      "execution_count": null,
      "metadata": {
        "colab": {
          "base_uri": "https://localhost:8080/"
        },
        "id": "9u4wqv4IeOC-",
        "outputId": "cb43abcc-1c2c-49ca-a490-961da7fea925"
      },
      "outputs": [
        {
          "output_type": "stream",
          "name": "stdout",
          "text": [
            "--2023-06-08 17:12:05--  https://github.com/vitsiupia/projektPython/raw/main/ami_meetings.zip\n",
            "Resolving github.com (github.com)... 140.82.112.3\n",
            "Connecting to github.com (github.com)|140.82.112.3|:443... connected.\n",
            "HTTP request sent, awaiting response... 301 Moved Permanently\n",
            "Location: https://github.com/vitsiupia/business-meetings-summarization/raw/main/ami_meetings.zip [following]\n",
            "--2023-06-08 17:12:06--  https://github.com/vitsiupia/business-meetings-summarization/raw/main/ami_meetings.zip\n",
            "Reusing existing connection to github.com:443.\n",
            "HTTP request sent, awaiting response... 302 Found\n",
            "Location: https://raw.githubusercontent.com/vitsiupia/business-meetings-summarization/main/ami_meetings.zip [following]\n",
            "--2023-06-08 17:12:06--  https://raw.githubusercontent.com/vitsiupia/business-meetings-summarization/main/ami_meetings.zip\n",
            "Resolving raw.githubusercontent.com (raw.githubusercontent.com)... 185.199.108.133, 185.199.109.133, 185.199.110.133, ...\n",
            "Connecting to raw.githubusercontent.com (raw.githubusercontent.com)|185.199.108.133|:443... connected.\n",
            "HTTP request sent, awaiting response... 200 OK\n",
            "Length: 1910215 (1.8M) [application/zip]\n",
            "Saving to: ‘ami_meetings.zip’\n",
            "\n",
            "ami_meetings.zip    100%[===================>]   1.82M  --.-KB/s    in 0.04s   \n",
            "\n",
            "2023-06-08 17:12:06 (49.4 MB/s) - ‘ami_meetings.zip’ saved [1910215/1910215]\n",
            "\n"
          ]
        }
      ],
      "source": [
        "# pobieramy dane z githuba\n",
        "\n",
        "!wget 'https://github.com/vitsiupia/projektPython/raw/main/ami_meetings.zip'\n",
        "# pamiętajmy o tym, że linkujemy do pliku raw"
      ]
    },
    {
      "cell_type": "code",
      "source": [
        "# Rozpakowujemy je\n",
        "import zipfile\n",
        "# Unzip the file\n",
        "zip_ref = zipfile.ZipFile('ami_meetings.zip')\n",
        "zip_ref.extractall('ami_meetings')\n",
        "zip_ref.close()"
      ],
      "metadata": {
        "id": "A_Xg6Cmph2pT"
      },
      "execution_count": null,
      "outputs": []
    },
    {
      "cell_type": "code",
      "source": [
        "import os\n",
        "import shutil\n",
        "\n",
        "# Ścieżka do folderu głównego\n",
        "folder_path = 'ami_meetings/'\n",
        "\n",
        "# Ścieżki do podfolderów\n",
        "abstractive_path = os.path.join(folder_path, 'abstractive')\n",
        "transcripts_path = os.path.join(folder_path, 'transcripts')\n",
        "test_path = 'test/'\n",
        "\n",
        "# Utwórz folder \"/test\", jeśli nie istnieje\n",
        "if not os.path.exists(test_path):\n",
        "    os.makedirs(test_path)\n",
        "\n",
        "# Pobierz listy plików w obu podfolderach\n",
        "abstractive_files = os.listdir(abstractive_path)\n",
        "transcript_files = os.listdir(transcripts_path)\n",
        "\n",
        "# Sprawdź, które transkrypty nie mają podsumowań\n",
        "transcripts_without_summary = []\n",
        "for transcript_file in transcript_files:\n",
        "    summary_file = transcript_file.replace('.transcript', '.abssumm')\n",
        "    if summary_file not in abstractive_files:\n",
        "        transcripts_without_summary.append(transcript_file)\n",
        "\n",
        "# Przenieś transkrypty bez podsumowań do folderu /test\n",
        "for transcript_file in transcripts_without_summary:\n",
        "    source_path = os.path.join(transcripts_path, transcript_file)\n",
        "    target_path = os.path.join(test_path, transcript_file)\n",
        "    shutil.move(source_path, target_path)\n",
        "\n",
        "print(\"Przeniesiono transkrypty bez podsumowań do folderu /test.\")"
      ],
      "metadata": {
        "colab": {
          "base_uri": "https://localhost:8080/"
        },
        "id": "bBL1sC0El8C2",
        "outputId": "865043b6-1f5a-46c0-dcd2-782b955206b9"
      },
      "execution_count": null,
      "outputs": [
        {
          "output_type": "stream",
          "name": "stdout",
          "text": [
            "Przeniesiono transkrypty bez podsumowań do folderu /test.\n"
          ]
        }
      ]
    },
    {
      "cell_type": "code",
      "source": [
        "import os\n",
        "import random\n",
        "import shutil\n",
        "\n",
        "# Ścieżki do podfolderów\n",
        "transcripts_path = os.path.join(folder_path, 'transcripts')\n",
        "abstractive_path = os.path.join(folder_path, 'abstractive')\n",
        "untouched_path = 'ami_meetings_untouched/'\n",
        "\n",
        "# Utwórz folder \"ami_meetings_untouched\", jeśli nie istnieje\n",
        "if not os.path.exists(untouched_path):\n",
        "    os.makedirs(untouched_path)\n",
        "\n",
        "# Ścieżki do podfolderów w \"ami_meetings_untouched\"\n",
        "train_transcripts_path = os.path.join(untouched_path, 'train', 'transcripts')\n",
        "train_summaries_path = os.path.join(untouched_path, 'train', 'summaries')\n",
        "val_transcripts_path = os.path.join(untouched_path, 'val', 'transcripts')\n",
        "val_summaries_path = os.path.join(untouched_path, 'val', 'summaries')\n",
        "\n",
        "# Utwórz foldery docelowe, jeśli nie istnieją\n",
        "for path in [train_transcripts_path, train_summaries_path, val_transcripts_path, val_summaries_path]:\n",
        "    if not os.path.exists(path):\n",
        "        os.makedirs(path)\n",
        "\n",
        "# Pobierz listy plików w folderze transcripts\n",
        "transcript_files = os.listdir(transcripts_path)\n",
        "random.shuffle(transcript_files)\n",
        "\n",
        "# Oblicz liczbę plików do przeniesienia do foldera treningowego\n",
        "train_files_count = int(len(transcript_files) * 0.75)\n",
        "\n",
        "# Przenieś pliki do foldera treningowego\n",
        "for i in range(train_files_count):\n",
        "    transcript_file = transcript_files[i]\n",
        "    summary_file = transcript_file.replace('.transcript', '.abssumm')\n",
        "\n",
        "    source_transcript_path = os.path.join(transcripts_path, transcript_file)\n",
        "    target_transcript_path = os.path.join(train_transcripts_path, transcript_file)\n",
        "    shutil.move(source_transcript_path, target_transcript_path)\n",
        "\n",
        "    source_summary_path = os.path.join(abstractive_path, summary_file)\n",
        "    target_summary_path = os.path.join(train_summaries_path, summary_file)\n",
        "    shutil.move(source_summary_path, target_summary_path)\n",
        "\n",
        "# Przenieś pozostałe pliki do foldera walidacyjnego\n",
        "for i in range(train_files_count, len(transcript_files)):\n",
        "    transcript_file = transcript_files[i]\n",
        "    summary_file = transcript_file.replace('.transcript', '.abssumm')\n",
        "\n",
        "    source_transcript_path = os.path.join(transcripts_path, transcript_file)\n",
        "    target_transcript_path = os.path.join(val_transcripts_path, transcript_file)\n",
        "    shutil.move(source_transcript_path, target_transcript_path)\n",
        "\n",
        "    source_summary_path = os.path.join(abstractive_path, summary_file)\n",
        "    target_summary_path = os.path.join(val_summaries_path, summary_file)\n",
        "    shutil.move(source_summary_path, target_summary_path)\n",
        "\n",
        "print(\"Przeniesiono pliki do odpowiednich folderów w nowej strukturze katalogów.\")"
      ],
      "metadata": {
        "colab": {
          "base_uri": "https://localhost:8080/"
        },
        "id": "pG_u2v3V7y47",
        "outputId": "04575034-ee9a-47ad-e8e6-fc0d7b91c1aa"
      },
      "execution_count": null,
      "outputs": [
        {
          "output_type": "stream",
          "name": "stdout",
          "text": [
            "Przeniesiono pliki do odpowiednich folderów w nowej strukturze katalogów.\n"
          ]
        }
      ]
    },
    {
      "cell_type": "code",
      "source": [
        "import os\n",
        "import shutil\n",
        "\n",
        "\n",
        "\n",
        "# Przenieś folder \"/test\" do folderu docelowego\n",
        "shutil.move(test_path, untouched_path)\n",
        "\n",
        "print(\"Przeniesiono folder '/test' do 'ami_meetings_untouched'.\")"
      ],
      "metadata": {
        "colab": {
          "base_uri": "https://localhost:8080/"
        },
        "id": "O33I375a92xX",
        "outputId": "9ded258c-c5a7-4992-a1fd-668d1da14343"
      },
      "execution_count": null,
      "outputs": [
        {
          "output_type": "stream",
          "name": "stdout",
          "text": [
            "Przeniesiono folder '/test' do 'ami_meetings_untouched'.\n"
          ]
        }
      ]
    },
    {
      "cell_type": "code",
      "source": [
        "import os\n",
        "import zipfile\n",
        "path = 'ami_meetnigs_untouched'\n",
        "def zipdir(path, ziph):\n",
        "    # ziph is zipfile handle\n",
        "    for root, dirs, files in os.walk(path):\n",
        "        for file in files:\n",
        "            ziph.write(os.path.join(root, file))\n",
        "zipf = zipfile.ZipFile('ami_meetings_untouched.zip', 'w', zipfile.ZIP_DEFLATED)\n",
        "zipdir('ami_meetings_untouched', zipf)\n",
        "zipf.close()"
      ],
      "metadata": {
        "id": "G-3cNotjAMNO"
      },
      "execution_count": null,
      "outputs": []
    }
  ]
}