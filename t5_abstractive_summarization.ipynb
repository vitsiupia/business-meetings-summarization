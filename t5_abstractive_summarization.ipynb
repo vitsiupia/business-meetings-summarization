{
  "cells": [
    {
      "cell_type": "markdown",
      "metadata": {
        "id": "view-in-github",
        "colab_type": "text"
      },
      "source": [
        "<a href=\"https://colab.research.google.com/github/vitsiupia/projektPython/blob/main/t5_abstractive_summarization.ipynb\" target=\"_parent\"><img src=\"https://colab.research.google.com/assets/colab-badge.svg\" alt=\"Open In Colab\"/></a>"
      ]
    },
    {
      "cell_type": "code",
      "execution_count": null,
      "id": "d1b46033-6297-42d2-acba-c97b8dbea6b3",
      "metadata": {
        "id": "d1b46033-6297-42d2-acba-c97b8dbea6b3"
      },
      "outputs": [],
      "source": [
        "!pip install transformers==4.20.0\n",
        "!pip install keras_nlp==0.3.0\n",
        "!pip install datasets\n",
        "!pip install huggingface-hub\n",
        "!pip install nltk\n",
        "!pip install rouge-score"
      ]
    },
    {
      "cell_type": "code",
      "source": [
        "# Importing the necessary libraries\n",
        "import os\n",
        "import logging\n",
        "import nltk\n",
        "import numpy as np\n",
        "import tensorflow as tf\n",
        "from tensorflow import keras\n",
        "import zipfile\n",
        "import pandas as pd\n",
        "\n",
        "# Only log error messages\n",
        "tf.get_logger().setLevel(logging.ERROR)\n",
        "\n",
        "os.environ[\"TOKENIZERS_PARALLELISM\"] = \"false\"\n",
        "os.environ['TF_CPP_MIN_LOG_LEVEL']"
      ],
      "metadata": {
        "colab": {
          "base_uri": "https://localhost:8080/",
          "height": 35
        },
        "id": "24hq9GePlpGx",
        "outputId": "e9abf14c-593b-4d70-8a8a-9e745b466fb3"
      },
      "id": "24hq9GePlpGx",
      "execution_count": 2,
      "outputs": [
        {
          "output_type": "execute_result",
          "data": {
            "text/plain": [
              "'1'"
            ],
            "application/vnd.google.colaboratory.intrinsic+json": {
              "type": "string"
            }
          },
          "metadata": {},
          "execution_count": 2
        }
      ]
    },
    {
      "cell_type": "code",
      "execution_count": 3,
      "id": "4d26ae33",
      "metadata": {
        "id": "4d26ae33"
      },
      "outputs": [],
      "source": [
        "gpu_devices = tf.config.experimental.list_physical_devices('GPU')\n",
        "for device in gpu_devices:\n",
        "    tf.config.experimental.set_memory_growth(device, True)"
      ]
    },
    {
      "cell_type": "markdown",
      "id": "04551bb4-c2fb-4249-8b0f-d911737594f1",
      "metadata": {
        "id": "04551bb4-c2fb-4249-8b0f-d911737594f1"
      },
      "source": [
        "Przygotujmy nasz korpus, żeby wyglądał dokładnie jak datasets pobrany z Huggingface, czyli miał kolumny jak: 'document' 'summary' 'id'. Zróbmy to w pandas dataframe...\n",
        "\n",
        "... A później przerobimy na HF dataset takim kodem:\n",
        "\n",
        "```\n",
        "from datasets import Dataset\n",
        "import pandas as pd\n",
        "df = pd.DataFrame({\"a\": [1, 2, 3]})\n",
        "dataset = Dataset.from_pandas(df)\n",
        "```"
      ]
    },
    {
      "cell_type": "code",
      "execution_count": 4,
      "id": "4d0d67af-7569-4aa2-98f7-148ec2b01bc6",
      "metadata": {
        "scrolled": true,
        "id": "4d0d67af-7569-4aa2-98f7-148ec2b01bc6",
        "colab": {
          "base_uri": "https://localhost:8080/"
        },
        "outputId": "94a030d0-6c25-45c8-ed9a-a00fb7704858"
      },
      "outputs": [
        {
          "output_type": "stream",
          "name": "stdout",
          "text": [
            "--2023-05-20 19:55:50--  https://github.com/vitsiupia/projektPython/raw/main/meetings_split.zip\n",
            "Resolving github.com (github.com)... 140.82.112.4\n",
            "Connecting to github.com (github.com)|140.82.112.4|:443... connected.\n",
            "HTTP request sent, awaiting response... 302 Found\n",
            "Location: https://raw.githubusercontent.com/vitsiupia/projektPython/main/meetings_split.zip [following]\n",
            "--2023-05-20 19:55:50--  https://raw.githubusercontent.com/vitsiupia/projektPython/main/meetings_split.zip\n",
            "Resolving raw.githubusercontent.com (raw.githubusercontent.com)... 185.199.108.133, 185.199.111.133, 185.199.110.133, ...\n",
            "Connecting to raw.githubusercontent.com (raw.githubusercontent.com)|185.199.108.133|:443... connected.\n",
            "HTTP request sent, awaiting response... 200 OK\n",
            "Length: 1034366 (1010K) [application/zip]\n",
            "Saving to: ‘meetings_split.zip.1’\n",
            "\n",
            "meetings_split.zip. 100%[===================>]   1010K  --.-KB/s    in 0.05s   \n",
            "\n",
            "2023-05-20 19:55:50 (20.0 MB/s) - ‘meetings_split.zip.1’ saved [1034366/1034366]\n",
            "\n"
          ]
        }
      ],
      "source": [
        "# Download our dataset with splits.\n",
        "!wget https://github.com/vitsiupia/projektPython/raw/main/meetings_split.zip"
      ]
    },
    {
      "cell_type": "code",
      "execution_count": 5,
      "id": "864a93b1-70ba-46e0-8261-c76f7d7e7d74",
      "metadata": {
        "id": "864a93b1-70ba-46e0-8261-c76f7d7e7d74"
      },
      "outputs": [],
      "source": [
        "# Unpack the dataset.\n",
        "with zipfile.ZipFile('meetings_split.zip', 'r') as zip:\n",
        "  zip.extractall()"
      ]
    },
    {
      "cell_type": "code",
      "source": [
        "data = []\n",
        "folder_path = \"meetings_split\"\n",
        "transcripts_path=\"transcripts\"\n",
        "summaries_path=\"summaries\"\n",
        "\n",
        "# Przeszukiwanie folderów train/ i val/ i tworzenie DataFrame\n",
        "for split in ['train','val']:\n",
        "    transcripts_dir = os.path.join(folder_path, split, transcripts_path)\n",
        "    summaries_dir = os.path.join(folder_path, split, summaries_path)\n",
        "    \n",
        "    # Przechodzenie przez każdy transkrypt w folderzeю\n",
        "    for transcript_name in os.listdir(transcripts_dir):\n",
        "          code = transcript_name.split(\".\")[0]\n",
        "          summary_name = code + \".abssumm.txt\"\n",
        "            \n",
        "          # Read the text inside the transcript.\n",
        "          with open(os.path.join(transcripts_dir, transcript_name), \"r\") as file:\n",
        "              transcript = file.read().strip()\n",
        "\n",
        "          # Now read the text in the respective summary.\n",
        "          with open(os.path.join(summaries_dir,summary_name), \"r\") as file:\n",
        "              summary = file.read().strip()\n",
        "            \n",
        "          data.append({\n",
        "              \"transcript\": transcript,\n",
        "               \"summary\": summary,\n",
        "               \"code\": code,\n",
        "               \"split\" : split,\n",
        "          })\n",
        "          # Usunięcie zmiennych transcript_text i summary_text\n",
        "          del transcript, summary\n",
        "\n",
        "# Tworzenie DataFrame z zebranych danych\n",
        "ami_df = pd.DataFrame(data)"
      ],
      "metadata": {
        "id": "hAGQkWE_xo-N"
      },
      "id": "hAGQkWE_xo-N",
      "execution_count": 6,
      "outputs": []
    },
    {
      "cell_type": "code",
      "source": [
        "ami_df"
      ],
      "metadata": {
        "colab": {
          "base_uri": "https://localhost:8080/",
          "height": 424
        },
        "id": "sSHIXIhp0QDi",
        "outputId": "f7b57fda-3dac-4f74-f39c-5cfb8ba42c83"
      },
      "id": "sSHIXIhp0QDi",
      "execution_count": 7,
      "outputs": [
        {
          "output_type": "execute_result",
          "data": {
            "text/plain": [
              "                                            transcript  \\\n",
              "0    hi hi everyone havent yes actually maybe uhhuh...   \n",
              "1    thanks coming meeting remote ideas ideas peopl...   \n",
              "2    names andrew market research person meeting pr...   \n",
              "3    talk functional design hopefully weve got bett...   \n",
              "4    hi good going nex next maybe participant two n...   \n",
              "..                                                 ...   \n",
              "137  name francina user interface role main respons...   \n",
              "138  think youve got control f eight shift f eight ...   \n",
              "139  wi project project documents yes think last mi...   \n",
              "140  p well problem think youve got lot people dont...   \n",
              "141  mouse working anymore hes put going beep beep ...   \n",
              "\n",
              "                                               summary     code  split  \n",
              "0    The project manager opened the meeting and sta...   IB4010  train  \n",
              "1    The project manager recapped the events and de...  ES2016b  train  \n",
              "2    The project manager opens the meeting by welco...  ES2012a  train  \n",
              "3    The Project Manager reviewed new requirements ...  IS1002b  train  \n",
              "4    The project manager opens the meeting by going...  IS1009c  train  \n",
              "..                                                 ...      ...    ...  \n",
              "137  The meeting opens with the group doing introdu...  IS1009a    val  \n",
              "138  The Project Manager gave the group new require...  ES2014b    val  \n",
              "139  The project manager opens the meeting by stati...  ES2006b    val  \n",
              "140  The project manager opens the meeting by going...  ES2012b    val  \n",
              "141  The project manager opened the meeting. The in...  TS3008b    val  \n",
              "\n",
              "[142 rows x 4 columns]"
            ],
            "text/html": [
              "\n",
              "  <div id=\"df-d47b8337-c828-4cc4-bd43-d102ef8bce6f\">\n",
              "    <div class=\"colab-df-container\">\n",
              "      <div>\n",
              "<style scoped>\n",
              "    .dataframe tbody tr th:only-of-type {\n",
              "        vertical-align: middle;\n",
              "    }\n",
              "\n",
              "    .dataframe tbody tr th {\n",
              "        vertical-align: top;\n",
              "    }\n",
              "\n",
              "    .dataframe thead th {\n",
              "        text-align: right;\n",
              "    }\n",
              "</style>\n",
              "<table border=\"1\" class=\"dataframe\">\n",
              "  <thead>\n",
              "    <tr style=\"text-align: right;\">\n",
              "      <th></th>\n",
              "      <th>transcript</th>\n",
              "      <th>summary</th>\n",
              "      <th>code</th>\n",
              "      <th>split</th>\n",
              "    </tr>\n",
              "  </thead>\n",
              "  <tbody>\n",
              "    <tr>\n",
              "      <th>0</th>\n",
              "      <td>hi hi everyone havent yes actually maybe uhhuh...</td>\n",
              "      <td>The project manager opened the meeting and sta...</td>\n",
              "      <td>IB4010</td>\n",
              "      <td>train</td>\n",
              "    </tr>\n",
              "    <tr>\n",
              "      <th>1</th>\n",
              "      <td>thanks coming meeting remote ideas ideas peopl...</td>\n",
              "      <td>The project manager recapped the events and de...</td>\n",
              "      <td>ES2016b</td>\n",
              "      <td>train</td>\n",
              "    </tr>\n",
              "    <tr>\n",
              "      <th>2</th>\n",
              "      <td>names andrew market research person meeting pr...</td>\n",
              "      <td>The project manager opens the meeting by welco...</td>\n",
              "      <td>ES2012a</td>\n",
              "      <td>train</td>\n",
              "    </tr>\n",
              "    <tr>\n",
              "      <th>3</th>\n",
              "      <td>talk functional design hopefully weve got bett...</td>\n",
              "      <td>The Project Manager reviewed new requirements ...</td>\n",
              "      <td>IS1002b</td>\n",
              "      <td>train</td>\n",
              "    </tr>\n",
              "    <tr>\n",
              "      <th>4</th>\n",
              "      <td>hi good going nex next maybe participant two n...</td>\n",
              "      <td>The project manager opens the meeting by going...</td>\n",
              "      <td>IS1009c</td>\n",
              "      <td>train</td>\n",
              "    </tr>\n",
              "    <tr>\n",
              "      <th>...</th>\n",
              "      <td>...</td>\n",
              "      <td>...</td>\n",
              "      <td>...</td>\n",
              "      <td>...</td>\n",
              "    </tr>\n",
              "    <tr>\n",
              "      <th>137</th>\n",
              "      <td>name francina user interface role main respons...</td>\n",
              "      <td>The meeting opens with the group doing introdu...</td>\n",
              "      <td>IS1009a</td>\n",
              "      <td>val</td>\n",
              "    </tr>\n",
              "    <tr>\n",
              "      <th>138</th>\n",
              "      <td>think youve got control f eight shift f eight ...</td>\n",
              "      <td>The Project Manager gave the group new require...</td>\n",
              "      <td>ES2014b</td>\n",
              "      <td>val</td>\n",
              "    </tr>\n",
              "    <tr>\n",
              "      <th>139</th>\n",
              "      <td>wi project project documents yes think last mi...</td>\n",
              "      <td>The project manager opens the meeting by stati...</td>\n",
              "      <td>ES2006b</td>\n",
              "      <td>val</td>\n",
              "    </tr>\n",
              "    <tr>\n",
              "      <th>140</th>\n",
              "      <td>p well problem think youve got lot people dont...</td>\n",
              "      <td>The project manager opens the meeting by going...</td>\n",
              "      <td>ES2012b</td>\n",
              "      <td>val</td>\n",
              "    </tr>\n",
              "    <tr>\n",
              "      <th>141</th>\n",
              "      <td>mouse working anymore hes put going beep beep ...</td>\n",
              "      <td>The project manager opened the meeting. The in...</td>\n",
              "      <td>TS3008b</td>\n",
              "      <td>val</td>\n",
              "    </tr>\n",
              "  </tbody>\n",
              "</table>\n",
              "<p>142 rows × 4 columns</p>\n",
              "</div>\n",
              "      <button class=\"colab-df-convert\" onclick=\"convertToInteractive('df-d47b8337-c828-4cc4-bd43-d102ef8bce6f')\"\n",
              "              title=\"Convert this dataframe to an interactive table.\"\n",
              "              style=\"display:none;\">\n",
              "        \n",
              "  <svg xmlns=\"http://www.w3.org/2000/svg\" height=\"24px\"viewBox=\"0 0 24 24\"\n",
              "       width=\"24px\">\n",
              "    <path d=\"M0 0h24v24H0V0z\" fill=\"none\"/>\n",
              "    <path d=\"M18.56 5.44l.94 2.06.94-2.06 2.06-.94-2.06-.94-.94-2.06-.94 2.06-2.06.94zm-11 1L8.5 8.5l.94-2.06 2.06-.94-2.06-.94L8.5 2.5l-.94 2.06-2.06.94zm10 10l.94 2.06.94-2.06 2.06-.94-2.06-.94-.94-2.06-.94 2.06-2.06.94z\"/><path d=\"M17.41 7.96l-1.37-1.37c-.4-.4-.92-.59-1.43-.59-.52 0-1.04.2-1.43.59L10.3 9.45l-7.72 7.72c-.78.78-.78 2.05 0 2.83L4 21.41c.39.39.9.59 1.41.59.51 0 1.02-.2 1.41-.59l7.78-7.78 2.81-2.81c.8-.78.8-2.07 0-2.86zM5.41 20L4 18.59l7.72-7.72 1.47 1.35L5.41 20z\"/>\n",
              "  </svg>\n",
              "      </button>\n",
              "      \n",
              "  <style>\n",
              "    .colab-df-container {\n",
              "      display:flex;\n",
              "      flex-wrap:wrap;\n",
              "      gap: 12px;\n",
              "    }\n",
              "\n",
              "    .colab-df-convert {\n",
              "      background-color: #E8F0FE;\n",
              "      border: none;\n",
              "      border-radius: 50%;\n",
              "      cursor: pointer;\n",
              "      display: none;\n",
              "      fill: #1967D2;\n",
              "      height: 32px;\n",
              "      padding: 0 0 0 0;\n",
              "      width: 32px;\n",
              "    }\n",
              "\n",
              "    .colab-df-convert:hover {\n",
              "      background-color: #E2EBFA;\n",
              "      box-shadow: 0px 1px 2px rgba(60, 64, 67, 0.3), 0px 1px 3px 1px rgba(60, 64, 67, 0.15);\n",
              "      fill: #174EA6;\n",
              "    }\n",
              "\n",
              "    [theme=dark] .colab-df-convert {\n",
              "      background-color: #3B4455;\n",
              "      fill: #D2E3FC;\n",
              "    }\n",
              "\n",
              "    [theme=dark] .colab-df-convert:hover {\n",
              "      background-color: #434B5C;\n",
              "      box-shadow: 0px 1px 3px 1px rgba(0, 0, 0, 0.15);\n",
              "      filter: drop-shadow(0px 1px 2px rgba(0, 0, 0, 0.3));\n",
              "      fill: #FFFFFF;\n",
              "    }\n",
              "  </style>\n",
              "\n",
              "      <script>\n",
              "        const buttonEl =\n",
              "          document.querySelector('#df-d47b8337-c828-4cc4-bd43-d102ef8bce6f button.colab-df-convert');\n",
              "        buttonEl.style.display =\n",
              "          google.colab.kernel.accessAllowed ? 'block' : 'none';\n",
              "\n",
              "        async function convertToInteractive(key) {\n",
              "          const element = document.querySelector('#df-d47b8337-c828-4cc4-bd43-d102ef8bce6f');\n",
              "          const dataTable =\n",
              "            await google.colab.kernel.invokeFunction('convertToInteractive',\n",
              "                                                     [key], {});\n",
              "          if (!dataTable) return;\n",
              "\n",
              "          const docLinkHtml = 'Like what you see? Visit the ' +\n",
              "            '<a target=\"_blank\" href=https://colab.research.google.com/notebooks/data_table.ipynb>data table notebook</a>'\n",
              "            + ' to learn more about interactive tables.';\n",
              "          element.innerHTML = '';\n",
              "          dataTable['output_type'] = 'display_data';\n",
              "          await google.colab.output.renderOutput(dataTable, element);\n",
              "          const docLink = document.createElement('div');\n",
              "          docLink.innerHTML = docLinkHtml;\n",
              "          element.appendChild(docLink);\n",
              "        }\n",
              "      </script>\n",
              "    </div>\n",
              "  </div>\n",
              "  "
            ]
          },
          "metadata": {},
          "execution_count": 7
        }
      ]
    },
    {
      "cell_type": "code",
      "source": [
        "ami_df.loc[ami_df.code.duplicated()].sort_values(by='code')"
      ],
      "metadata": {
        "colab": {
          "base_uri": "https://localhost:8080/",
          "height": 49
        },
        "id": "9DJkpL_TqO3H",
        "outputId": "30257ea1-1034-4a46-81f4-106ab7ecb8b5"
      },
      "id": "9DJkpL_TqO3H",
      "execution_count": 8,
      "outputs": [
        {
          "output_type": "execute_result",
          "data": {
            "text/plain": [
              "Empty DataFrame\n",
              "Columns: [transcript, summary, code, split]\n",
              "Index: []"
            ],
            "text/html": [
              "\n",
              "  <div id=\"df-878489bb-98a5-4506-a0ae-d91d517f36b3\">\n",
              "    <div class=\"colab-df-container\">\n",
              "      <div>\n",
              "<style scoped>\n",
              "    .dataframe tbody tr th:only-of-type {\n",
              "        vertical-align: middle;\n",
              "    }\n",
              "\n",
              "    .dataframe tbody tr th {\n",
              "        vertical-align: top;\n",
              "    }\n",
              "\n",
              "    .dataframe thead th {\n",
              "        text-align: right;\n",
              "    }\n",
              "</style>\n",
              "<table border=\"1\" class=\"dataframe\">\n",
              "  <thead>\n",
              "    <tr style=\"text-align: right;\">\n",
              "      <th></th>\n",
              "      <th>transcript</th>\n",
              "      <th>summary</th>\n",
              "      <th>code</th>\n",
              "      <th>split</th>\n",
              "    </tr>\n",
              "  </thead>\n",
              "  <tbody>\n",
              "  </tbody>\n",
              "</table>\n",
              "</div>\n",
              "      <button class=\"colab-df-convert\" onclick=\"convertToInteractive('df-878489bb-98a5-4506-a0ae-d91d517f36b3')\"\n",
              "              title=\"Convert this dataframe to an interactive table.\"\n",
              "              style=\"display:none;\">\n",
              "        \n",
              "  <svg xmlns=\"http://www.w3.org/2000/svg\" height=\"24px\"viewBox=\"0 0 24 24\"\n",
              "       width=\"24px\">\n",
              "    <path d=\"M0 0h24v24H0V0z\" fill=\"none\"/>\n",
              "    <path d=\"M18.56 5.44l.94 2.06.94-2.06 2.06-.94-2.06-.94-.94-2.06-.94 2.06-2.06.94zm-11 1L8.5 8.5l.94-2.06 2.06-.94-2.06-.94L8.5 2.5l-.94 2.06-2.06.94zm10 10l.94 2.06.94-2.06 2.06-.94-2.06-.94-.94-2.06-.94 2.06-2.06.94z\"/><path d=\"M17.41 7.96l-1.37-1.37c-.4-.4-.92-.59-1.43-.59-.52 0-1.04.2-1.43.59L10.3 9.45l-7.72 7.72c-.78.78-.78 2.05 0 2.83L4 21.41c.39.39.9.59 1.41.59.51 0 1.02-.2 1.41-.59l7.78-7.78 2.81-2.81c.8-.78.8-2.07 0-2.86zM5.41 20L4 18.59l7.72-7.72 1.47 1.35L5.41 20z\"/>\n",
              "  </svg>\n",
              "      </button>\n",
              "      \n",
              "  <style>\n",
              "    .colab-df-container {\n",
              "      display:flex;\n",
              "      flex-wrap:wrap;\n",
              "      gap: 12px;\n",
              "    }\n",
              "\n",
              "    .colab-df-convert {\n",
              "      background-color: #E8F0FE;\n",
              "      border: none;\n",
              "      border-radius: 50%;\n",
              "      cursor: pointer;\n",
              "      display: none;\n",
              "      fill: #1967D2;\n",
              "      height: 32px;\n",
              "      padding: 0 0 0 0;\n",
              "      width: 32px;\n",
              "    }\n",
              "\n",
              "    .colab-df-convert:hover {\n",
              "      background-color: #E2EBFA;\n",
              "      box-shadow: 0px 1px 2px rgba(60, 64, 67, 0.3), 0px 1px 3px 1px rgba(60, 64, 67, 0.15);\n",
              "      fill: #174EA6;\n",
              "    }\n",
              "\n",
              "    [theme=dark] .colab-df-convert {\n",
              "      background-color: #3B4455;\n",
              "      fill: #D2E3FC;\n",
              "    }\n",
              "\n",
              "    [theme=dark] .colab-df-convert:hover {\n",
              "      background-color: #434B5C;\n",
              "      box-shadow: 0px 1px 3px 1px rgba(0, 0, 0, 0.15);\n",
              "      filter: drop-shadow(0px 1px 2px rgba(0, 0, 0, 0.3));\n",
              "      fill: #FFFFFF;\n",
              "    }\n",
              "  </style>\n",
              "\n",
              "      <script>\n",
              "        const buttonEl =\n",
              "          document.querySelector('#df-878489bb-98a5-4506-a0ae-d91d517f36b3 button.colab-df-convert');\n",
              "        buttonEl.style.display =\n",
              "          google.colab.kernel.accessAllowed ? 'block' : 'none';\n",
              "\n",
              "        async function convertToInteractive(key) {\n",
              "          const element = document.querySelector('#df-878489bb-98a5-4506-a0ae-d91d517f36b3');\n",
              "          const dataTable =\n",
              "            await google.colab.kernel.invokeFunction('convertToInteractive',\n",
              "                                                     [key], {});\n",
              "          if (!dataTable) return;\n",
              "\n",
              "          const docLinkHtml = 'Like what you see? Visit the ' +\n",
              "            '<a target=\"_blank\" href=https://colab.research.google.com/notebooks/data_table.ipynb>data table notebook</a>'\n",
              "            + ' to learn more about interactive tables.';\n",
              "          element.innerHTML = '';\n",
              "          dataTable['output_type'] = 'display_data';\n",
              "          await google.colab.output.renderOutput(dataTable, element);\n",
              "          const docLink = document.createElement('div');\n",
              "          docLink.innerHTML = docLinkHtml;\n",
              "          element.appendChild(docLink);\n",
              "        }\n",
              "      </script>\n",
              "    </div>\n",
              "  </div>\n",
              "  "
            ]
          },
          "metadata": {},
          "execution_count": 8
        }
      ]
    },
    {
      "cell_type": "code",
      "execution_count": 9,
      "id": "ef3fc2c9-c8ff-4840-887b-2a35c8625a16",
      "metadata": {
        "colab": {
          "base_uri": "https://localhost:8080/"
        },
        "id": "ef3fc2c9-c8ff-4840-887b-2a35c8625a16",
        "outputId": "b8a2024d-5ca3-4b53-b49e-5cd7fde6dd39"
      },
      "outputs": [
        {
          "output_type": "stream",
          "name": "stdout",
          "text": [
            "Ilość plików w folderze 'meetings_split/train/transcripts': 120\n",
            "Ilość plików w folderze 'meetings_split/train/summaries': 120\n",
            "Ilość plików w folderze 'meetings_split/val/transcripts': 22\n",
            "Ilość plików w folderze 'meetings_split/val/summaries': 22\n",
            "Ilość plików w folderze 'meetings_split/test/transcripts': 29\n"
          ]
        }
      ],
      "source": [
        "for folder_path in [\"meetings_split/train/transcripts\", \"meetings_split/train/summaries\", \n",
        "                    \"meetings_split/val/transcripts\", \"meetings_split/val/summaries\", \"meetings_split/test/transcripts\"]:\n",
        "  file_count = len(os.listdir(folder_path))\n",
        "  print(f\"Ilość plików w folderze '{folder_path}': {file_count}\") "
      ]
    },
    {
      "cell_type": "code",
      "execution_count": 10,
      "id": "7be85ed9-00fa-46e4-91ca-2fb007951767",
      "metadata": {
        "id": "7be85ed9-00fa-46e4-91ca-2fb007951767"
      },
      "outputs": [],
      "source": [
        "from datasets import Dataset\n",
        "meetings_dataset = Dataset.from_pandas(ami_df)"
      ]
    },
    {
      "cell_type": "markdown",
      "id": "599620e1-af36-4e92-b6bb-ef41efb6e807",
      "metadata": {
        "id": "599620e1-af36-4e92-b6bb-ef41efb6e807"
      },
      "source": [
        "Definiowanie zmiennych"
      ]
    },
    {
      "cell_type": "code",
      "execution_count": 11,
      "id": "65569d1a-af62-4d71-9c25-5f2395ad54f4",
      "metadata": {
        "id": "65569d1a-af62-4d71-9c25-5f2395ad54f4"
      },
      "outputs": [],
      "source": [
        "# Define certain variables\n",
        "\n",
        "# The percentage of the dataset you want to split as train and test\n",
        "TRAIN_TEST_SPLIT = 0.15\n",
        "\n",
        "# Z wcześniejszego notatnika:\n",
        "# ...Najdłuższy transkrypt ma 3870 słów.\n",
        "# ...Najdłuższe podsumowanie ma 530 słów.\n",
        "# ...Najkrótsze podsumowanie ma 41 słów.\n",
        "\n",
        "MAX_INPUT_LENGTH = ami_df.transcript.map(lambda row: len(row.split())).max() # Maximum length of the input to the model\n",
        "MIN_TARGET_LENGTH = ami_df.summary.map(lambda row: len(row.split())).min()  # Minimum length of the output by the model\n",
        "MAX_TARGET_LENGTH = ami_df.summary.map(lambda row: len(row.split())).max()  # Maximum length of the output by the model\n",
        "BATCH_SIZE = 50  # Batch-size for training our model\n",
        "LEARNING_RATE = 2e-3  # Learning-rate for training our model\n",
        "MAX_EPOCHS = 1  # Maximum number of epochs we will train the model for\n",
        "\n",
        "# This notebook is built on the t5-small checkpoint from the Hugging Face Model Hub\n",
        "MODEL_CHECKPOINT = \"t5-small\""
      ]
    },
    {
      "cell_type": "code",
      "execution_count": 12,
      "id": "122c672a-49e1-4cd0-a4ea-933d6d34bb6d",
      "metadata": {
        "id": "122c672a-49e1-4cd0-a4ea-933d6d34bb6d",
        "outputId": "f6f57e83-e767-4c1a-8fe8-c4bd59a4b531",
        "colab": {
          "base_uri": "https://localhost:8080/"
        }
      },
      "outputs": [
        {
          "output_type": "stream",
          "name": "stdout",
          "text": [
            "Dataset({\n",
            "    features: ['transcript', 'summary', 'code', 'split'],\n",
            "    num_rows: 142\n",
            "})\n"
          ]
        }
      ],
      "source": [
        "print(meetings_dataset)"
      ]
    },
    {
      "cell_type": "code",
      "execution_count": 13,
      "id": "6f0b42a8-1eb6-44a5-ac7b-e5284f4cd140",
      "metadata": {
        "id": "6f0b42a8-1eb6-44a5-ac7b-e5284f4cd140"
      },
      "outputs": [],
      "source": [
        "meetings_dataset = meetings_dataset.train_test_split(\n",
        "    train_size=0.85, test_size=TRAIN_TEST_SPLIT\n",
        ")"
      ]
    },
    {
      "cell_type": "code",
      "execution_count": 14,
      "id": "408c6494-1348-4d7f-bdb0-dc818319e4c8",
      "metadata": {
        "id": "408c6494-1348-4d7f-bdb0-dc818319e4c8",
        "outputId": "76c84142-8fa6-496a-b768-2c16c58b5871",
        "colab": {
          "base_uri": "https://localhost:8080/"
        }
      },
      "outputs": [
        {
          "output_type": "execute_result",
          "data": {
            "text/plain": [
              "DatasetDict({\n",
              "    train: Dataset({\n",
              "        features: ['transcript', 'summary', 'code', 'split'],\n",
              "        num_rows: 120\n",
              "    })\n",
              "    test: Dataset({\n",
              "        features: ['transcript', 'summary', 'code', 'split'],\n",
              "        num_rows: 22\n",
              "    })\n",
              "})"
            ]
          },
          "metadata": {},
          "execution_count": 14
        }
      ],
      "source": [
        "meetings_dataset"
      ]
    },
    {
      "cell_type": "markdown",
      "id": "2b435a2a-171a-405f-8c57-ef4198d94cd6",
      "metadata": {
        "id": "2b435a2a-171a-405f-8c57-ef4198d94cd6"
      },
      "source": [
        "Data Pre-Processing"
      ]
    },
    {
      "cell_type": "code",
      "execution_count": 15,
      "id": "416d3638-f922-4eec-aefc-893a2d0a19a6",
      "metadata": {
        "id": "416d3638-f922-4eec-aefc-893a2d0a19a6"
      },
      "outputs": [],
      "source": [
        "import transformers\n",
        "from transformers import AutoTokenizer\n",
        "\n",
        "tokenizer = AutoTokenizer.from_pretrained(MODEL_CHECKPOINT)"
      ]
    },
    {
      "cell_type": "code",
      "execution_count": 16,
      "id": "3673d11e-1fcb-45bf-9087-97498146bbed",
      "metadata": {
        "id": "3673d11e-1fcb-45bf-9087-97498146bbed"
      },
      "outputs": [],
      "source": [
        "if MODEL_CHECKPOINT in [\"t5-small\", \"t5-base\", \"t5-large\", \"t5-3b\", \"t5-11b\"]:\n",
        "    prefix = \"summarize: \"\n",
        "else:\n",
        "    prefix = \"\""
      ]
    },
    {
      "cell_type": "code",
      "execution_count": 17,
      "id": "b5ed6249-d24d-4f44-8978-de6ca6c1a869",
      "metadata": {
        "id": "b5ed6249-d24d-4f44-8978-de6ca6c1a869"
      },
      "outputs": [],
      "source": [
        "def preprocess_function(examples):\n",
        "    inputs = [prefix + doc for doc in examples[\"transcript\"]]\n",
        "    model_inputs = tokenizer(inputs, max_length=MAX_INPUT_LENGTH, truncation=True)\n",
        "\n",
        "    # Setup the tokenizer for targets\n",
        "    with tokenizer.as_target_tokenizer():\n",
        "        labels = tokenizer(\n",
        "            examples[\"summary\"], max_length=MAX_TARGET_LENGTH, truncation=True\n",
        "        )\n",
        "\n",
        "    model_inputs[\"labels\"] = labels[\"input_ids\"]\n",
        "\n",
        "    return model_inputs"
      ]
    },
    {
      "cell_type": "code",
      "execution_count": 18,
      "id": "fc9c26ef-1043-4270-bb51-fd4f01b9fd46",
      "metadata": {
        "colab": {
          "referenced_widgets": [
            "67dc2276defd49e9b611507e819538c8",
            "f2003884a55f460fa5505e6056c2c2d6",
            "d6343dec487d4e8bbef14c7bf4ea50a6",
            "0927b0aa9dba4962a84ae55015671c74",
            "67023d67c50741048157d01a1b2e7bb3",
            "e9b114bf7dd1479c844ef560debdb53b",
            "3635aac1efbb4364b585d47f90130df8",
            "c30ab885bb254a2ab404cfea5f8b5d9c",
            "976b5b3dabae4e329d243795f2f5a621",
            "15bdc4012d97406fb48fc6ddc8aff6e1",
            "b3cd481c9f034662bf6eaf8acb4dfd2b",
            "dfbed8b0b3d14863ade9e9298bc9334c",
            "fcaab545878543f4afe62acbc63a1a40",
            "c8e73149aace4553b06218d1d40dbea6",
            "79fb27b8281b4523b95affac38d1c3c5",
            "66351f0916e84aecbeee7394d5a378a9",
            "18266b5986ba4e47acb7ed8dc87f3f45",
            "a45e4600bf604f45a4023e0006ded743",
            "933c07119a904ddeb3e2ad9af2eee299",
            "6ccd5e842c484484a4d848312dc23999",
            "7536b5c216b04269b30d3fe44fbfeeaf",
            "1d8792bf1d304594b2d782771116f1f1"
          ],
          "base_uri": "https://localhost:8080/",
          "height": 17
        },
        "id": "fc9c26ef-1043-4270-bb51-fd4f01b9fd46",
        "outputId": "db0a13a7-0266-4c11-921d-e866b677d009"
      },
      "outputs": [
        {
          "output_type": "display_data",
          "data": {
            "text/plain": [
              "Map:   0%|          | 0/120 [00:00<?, ? examples/s]"
            ],
            "application/vnd.jupyter.widget-view+json": {
              "version_major": 2,
              "version_minor": 0,
              "model_id": "67dc2276defd49e9b611507e819538c8"
            }
          },
          "metadata": {}
        },
        {
          "output_type": "display_data",
          "data": {
            "text/plain": [
              "Map:   0%|          | 0/22 [00:00<?, ? examples/s]"
            ],
            "application/vnd.jupyter.widget-view+json": {
              "version_major": 2,
              "version_minor": 0,
              "model_id": "dfbed8b0b3d14863ade9e9298bc9334c"
            }
          },
          "metadata": {}
        }
      ],
      "source": [
        "tokenized_datasets = meetings_dataset.map(preprocess_function, batched=True)"
      ]
    },
    {
      "cell_type": "markdown",
      "id": "6e8e7adf-29af-4d7a-95d8-8c94277beda3",
      "metadata": {
        "id": "6e8e7adf-29af-4d7a-95d8-8c94277beda3"
      },
      "source": [
        "Defining the model"
      ]
    },
    {
      "cell_type": "code",
      "execution_count": 19,
      "id": "8af1e4f4-dc94-4960-8484-a97371a9fd13",
      "metadata": {
        "id": "8af1e4f4-dc94-4960-8484-a97371a9fd13",
        "outputId": "b703a9c6-b836-47fe-ba94-74be5b0998bc",
        "colab": {
          "base_uri": "https://localhost:8080/"
        }
      },
      "outputs": [
        {
          "output_type": "stream",
          "name": "stderr",
          "text": [
            "All model checkpoint layers were used when initializing TFT5ForConditionalGeneration.\n",
            "\n",
            "All the layers of TFT5ForConditionalGeneration were initialized from the model checkpoint at t5-small.\n",
            "If your task is similar to the task the model of the checkpoint was trained on, you can already use TFT5ForConditionalGeneration for predictions without further training.\n"
          ]
        }
      ],
      "source": [
        "from transformers import TFAutoModelForSeq2SeqLM, DataCollatorForSeq2Seq\n",
        "\n",
        "model = TFAutoModelForSeq2SeqLM.from_pretrained(MODEL_CHECKPOINT)"
      ]
    },
    {
      "cell_type": "code",
      "execution_count": 20,
      "id": "a06dfaef-d902-41df-bcd6-28e8e198ac8e",
      "metadata": {
        "id": "a06dfaef-d902-41df-bcd6-28e8e198ac8e"
      },
      "outputs": [],
      "source": [
        "from transformers import DataCollatorForSeq2Seq\n",
        "\n",
        "data_collator = DataCollatorForSeq2Seq(tokenizer, model=model, return_tensors=\"tf\")"
      ]
    },
    {
      "cell_type": "code",
      "execution_count": 21,
      "id": "4e096858-6232-4cba-9ba1-b479d0cbdf2a",
      "metadata": {
        "id": "4e096858-6232-4cba-9ba1-b479d0cbdf2a"
      },
      "outputs": [],
      "source": [
        "train_dataset = tokenized_datasets[\"train\"].to_tf_dataset(\n",
        "    batch_size=BATCH_SIZE,\n",
        "    columns=[\"input_ids\", \"attention_mask\", \"labels\"],\n",
        "    shuffle=True,\n",
        "    collate_fn=data_collator,\n",
        ")\n",
        "test_dataset = tokenized_datasets[\"test\"].to_tf_dataset(\n",
        "    batch_size=BATCH_SIZE,\n",
        "    columns=[\"input_ids\", \"attention_mask\", \"labels\"],\n",
        "    shuffle=False,\n",
        "    collate_fn=data_collator,\n",
        ")\n",
        "generation_dataset = (\n",
        "    tokenized_datasets[\"test\"]\n",
        "    .shuffle()\n",
        "    .select(list(range(10)))\n",
        "    .to_tf_dataset(\n",
        "        batch_size=BATCH_SIZE,\n",
        "        columns=[\"input_ids\", \"attention_mask\", \"labels\"],\n",
        "        shuffle=False,\n",
        "        collate_fn=data_collator,\n",
        "    )\n",
        ")"
      ]
    },
    {
      "cell_type": "markdown",
      "id": "d72a0bc5-3c42-4e36-83b2-05c0b4716eb0",
      "metadata": {
        "id": "d72a0bc5-3c42-4e36-83b2-05c0b4716eb0"
      },
      "source": [
        "Building and compiling the model"
      ]
    },
    {
      "cell_type": "code",
      "execution_count": 22,
      "id": "ece28870-3915-4e38-aa8c-2a6c062414b2",
      "metadata": {
        "id": "ece28870-3915-4e38-aa8c-2a6c062414b2",
        "outputId": "43b2b74a-ebe3-4b36-a6ad-c9568401f0ac",
        "colab": {
          "base_uri": "https://localhost:8080/"
        }
      },
      "outputs": [
        {
          "output_type": "stream",
          "name": "stderr",
          "text": [
            "No loss specified in compile() - the model's internal loss computation will be used as the loss. Don't panic - this is a common way to train TensorFlow models in Transformers! To disable this behaviour please pass a loss argument, or explicitly pass `loss=None` if you do not want your model to compute a loss.\n"
          ]
        }
      ],
      "source": [
        "optimizer = keras.optimizers.Adam(learning_rate=LEARNING_RATE)\n",
        "model.compile(optimizer=optimizer)"
      ]
    },
    {
      "cell_type": "markdown",
      "id": "de049551-b02e-4efa-a063-1bfbbd2c3a3f",
      "metadata": {
        "id": "de049551-b02e-4efa-a063-1bfbbd2c3a3f"
      },
      "source": [
        "Training and evaluating the model"
      ]
    },
    {
      "cell_type": "code",
      "execution_count": 23,
      "id": "b5b779e6-7fa8-4d98-8674-be2b928917b5",
      "metadata": {
        "id": "b5b779e6-7fa8-4d98-8674-be2b928917b5"
      },
      "outputs": [],
      "source": [
        "import keras_nlp\n",
        "\n",
        "rouge_l = keras_nlp.metrics.RougeL()\n",
        "\n",
        "\n",
        "def metric_fn(eval_predictions):\n",
        "    predictions, labels = eval_predictions\n",
        "    decoded_predictions = tokenizer.batch_decode(predictions, skip_special_tokens=True)\n",
        "    for label in labels:\n",
        "        label[label < 0] = tokenizer.pad_token_id  # Replace masked label tokens\n",
        "    decoded_labels = tokenizer.batch_decode(labels, skip_special_tokens=True)\n",
        "    result = rouge_l(decoded_labels, decoded_predictions)\n",
        "    # We will print only the F1 score, you can use other aggregation metrics as well\n",
        "    result = {\"RougeL\": result[\"f1_score\"]}\n",
        "\n",
        "    return result"
      ]
    },
    {
      "cell_type": "code",
      "execution_count": null,
      "id": "38bbd583-d1f5-47a2-a77f-96486c3159fd",
      "metadata": {
        "id": "38bbd583-d1f5-47a2-a77f-96486c3159fd",
        "outputId": "e990f603-37d0-4d4e-bb6c-5efae820b669",
        "colab": {
          "base_uri": "https://localhost:8080/"
        }
      },
      "outputs": [
        {
          "output_type": "stream",
          "name": "stderr",
          "text": [
            "WARNING:root:No label_cols specified for KerasMetricCallback, assuming you want the 'labels' key.\n"
          ]
        }
      ],
      "source": [
        "from transformers.keras_callbacks import KerasMetricCallback\n",
        "\n",
        "metric_callback = KerasMetricCallback(\n",
        "    metric_fn, eval_dataset=generation_dataset, predict_with_generate=True\n",
        ")\n",
        "\n",
        "callbacks = [metric_callback]\n",
        "\n",
        "# For now we will use our test set as our validation_data\n",
        "model.fit(\n",
        "    train_dataset, validation_data=test_dataset, epochs=MAX_EPOCHS, callbacks=callbacks\n",
        ")"
      ]
    },
    {
      "cell_type": "markdown",
      "id": "ba6a1175",
      "metadata": {
        "id": "ba6a1175"
      },
      "source": [
        "##Inference\n",
        "Now we will try to infer the model we trained on an arbitary article. To do so, we will use the pipeline method from Hugging Face Transformers. Hugging Face Transformers provides us with a variety of pipelines to choose from. For our task, we use the summarization pipeline.\n",
        "\n",
        "The pipeline method takes in the trained model and tokenizer as arguments. The framework=\"tf\" argument ensures that you are passing a model that was trained with TF."
      ]
    },
    {
      "cell_type": "code",
      "execution_count": null,
      "id": "b52b3dc4",
      "metadata": {
        "id": "b52b3dc4"
      },
      "outputs": [],
      "source": [
        "from transformers import pipeline\n",
        "\n",
        "summarizer = pipeline(\"summarization\", model=model, tokenizer=tokenizer, framework=\"tf\")\n",
        "\n",
        "summarizer(\n",
        "    meetings_dataset[\"test\"][0][\"transcript\"],\n",
        "    min_length=MIN_TARGET_LENGTH,\n",
        "    max_length=MAX_TARGET_LENGTH,\n",
        ")"
      ]
    },
    {
      "cell_type": "code",
      "execution_count": null,
      "id": "df74a1e4",
      "metadata": {
        "id": "df74a1e4"
      },
      "outputs": [],
      "source": [
        "meetings_dataset[\"test\"][0][\"summary\"]"
      ]
    },
    {
      "cell_type": "code",
      "execution_count": null,
      "id": "2c96a916",
      "metadata": {
        "id": "2c96a916"
      },
      "outputs": [],
      "source": []
    }
  ],
  "metadata": {
    "kernelspec": {
      "display_name": "Python 3 (ipykernel)",
      "language": "python",
      "name": "python3"
    },
    "language_info": {
      "codemirror_mode": {
        "name": "ipython",
        "version": 3
      },
      "file_extension": ".py",
      "mimetype": "text/x-python",
      "name": "python",
      "nbconvert_exporter": "python",
      "pygments_lexer": "ipython3",
      "version": "3.10.9"
    },
    "colab": {
      "provenance": [],
      "include_colab_link": true
    },
    "accelerator": "TPU",
    "gpuClass": "standard",
    "widgets": {
      "application/vnd.jupyter.widget-state+json": {
        "67dc2276defd49e9b611507e819538c8": {
          "model_module": "@jupyter-widgets/controls",
          "model_name": "HBoxModel",
          "model_module_version": "1.5.0",
          "state": {
            "_dom_classes": [],
            "_model_module": "@jupyter-widgets/controls",
            "_model_module_version": "1.5.0",
            "_model_name": "HBoxModel",
            "_view_count": null,
            "_view_module": "@jupyter-widgets/controls",
            "_view_module_version": "1.5.0",
            "_view_name": "HBoxView",
            "box_style": "",
            "children": [
              "IPY_MODEL_f2003884a55f460fa5505e6056c2c2d6",
              "IPY_MODEL_d6343dec487d4e8bbef14c7bf4ea50a6",
              "IPY_MODEL_0927b0aa9dba4962a84ae55015671c74"
            ],
            "layout": "IPY_MODEL_67023d67c50741048157d01a1b2e7bb3"
          }
        },
        "f2003884a55f460fa5505e6056c2c2d6": {
          "model_module": "@jupyter-widgets/controls",
          "model_name": "HTMLModel",
          "model_module_version": "1.5.0",
          "state": {
            "_dom_classes": [],
            "_model_module": "@jupyter-widgets/controls",
            "_model_module_version": "1.5.0",
            "_model_name": "HTMLModel",
            "_view_count": null,
            "_view_module": "@jupyter-widgets/controls",
            "_view_module_version": "1.5.0",
            "_view_name": "HTMLView",
            "description": "",
            "description_tooltip": null,
            "layout": "IPY_MODEL_e9b114bf7dd1479c844ef560debdb53b",
            "placeholder": "​",
            "style": "IPY_MODEL_3635aac1efbb4364b585d47f90130df8",
            "value": "Map: 100%"
          }
        },
        "d6343dec487d4e8bbef14c7bf4ea50a6": {
          "model_module": "@jupyter-widgets/controls",
          "model_name": "FloatProgressModel",
          "model_module_version": "1.5.0",
          "state": {
            "_dom_classes": [],
            "_model_module": "@jupyter-widgets/controls",
            "_model_module_version": "1.5.0",
            "_model_name": "FloatProgressModel",
            "_view_count": null,
            "_view_module": "@jupyter-widgets/controls",
            "_view_module_version": "1.5.0",
            "_view_name": "ProgressView",
            "bar_style": "",
            "description": "",
            "description_tooltip": null,
            "layout": "IPY_MODEL_c30ab885bb254a2ab404cfea5f8b5d9c",
            "max": 120,
            "min": 0,
            "orientation": "horizontal",
            "style": "IPY_MODEL_976b5b3dabae4e329d243795f2f5a621",
            "value": 120
          }
        },
        "0927b0aa9dba4962a84ae55015671c74": {
          "model_module": "@jupyter-widgets/controls",
          "model_name": "HTMLModel",
          "model_module_version": "1.5.0",
          "state": {
            "_dom_classes": [],
            "_model_module": "@jupyter-widgets/controls",
            "_model_module_version": "1.5.0",
            "_model_name": "HTMLModel",
            "_view_count": null,
            "_view_module": "@jupyter-widgets/controls",
            "_view_module_version": "1.5.0",
            "_view_name": "HTMLView",
            "description": "",
            "description_tooltip": null,
            "layout": "IPY_MODEL_15bdc4012d97406fb48fc6ddc8aff6e1",
            "placeholder": "​",
            "style": "IPY_MODEL_b3cd481c9f034662bf6eaf8acb4dfd2b",
            "value": " 120/120 [00:01&lt;00:00, 72.18 examples/s]"
          }
        },
        "67023d67c50741048157d01a1b2e7bb3": {
          "model_module": "@jupyter-widgets/base",
          "model_name": "LayoutModel",
          "model_module_version": "1.2.0",
          "state": {
            "_model_module": "@jupyter-widgets/base",
            "_model_module_version": "1.2.0",
            "_model_name": "LayoutModel",
            "_view_count": null,
            "_view_module": "@jupyter-widgets/base",
            "_view_module_version": "1.2.0",
            "_view_name": "LayoutView",
            "align_content": null,
            "align_items": null,
            "align_self": null,
            "border": null,
            "bottom": null,
            "display": null,
            "flex": null,
            "flex_flow": null,
            "grid_area": null,
            "grid_auto_columns": null,
            "grid_auto_flow": null,
            "grid_auto_rows": null,
            "grid_column": null,
            "grid_gap": null,
            "grid_row": null,
            "grid_template_areas": null,
            "grid_template_columns": null,
            "grid_template_rows": null,
            "height": null,
            "justify_content": null,
            "justify_items": null,
            "left": null,
            "margin": null,
            "max_height": null,
            "max_width": null,
            "min_height": null,
            "min_width": null,
            "object_fit": null,
            "object_position": null,
            "order": null,
            "overflow": null,
            "overflow_x": null,
            "overflow_y": null,
            "padding": null,
            "right": null,
            "top": null,
            "visibility": "hidden",
            "width": null
          }
        },
        "e9b114bf7dd1479c844ef560debdb53b": {
          "model_module": "@jupyter-widgets/base",
          "model_name": "LayoutModel",
          "model_module_version": "1.2.0",
          "state": {
            "_model_module": "@jupyter-widgets/base",
            "_model_module_version": "1.2.0",
            "_model_name": "LayoutModel",
            "_view_count": null,
            "_view_module": "@jupyter-widgets/base",
            "_view_module_version": "1.2.0",
            "_view_name": "LayoutView",
            "align_content": null,
            "align_items": null,
            "align_self": null,
            "border": null,
            "bottom": null,
            "display": null,
            "flex": null,
            "flex_flow": null,
            "grid_area": null,
            "grid_auto_columns": null,
            "grid_auto_flow": null,
            "grid_auto_rows": null,
            "grid_column": null,
            "grid_gap": null,
            "grid_row": null,
            "grid_template_areas": null,
            "grid_template_columns": null,
            "grid_template_rows": null,
            "height": null,
            "justify_content": null,
            "justify_items": null,
            "left": null,
            "margin": null,
            "max_height": null,
            "max_width": null,
            "min_height": null,
            "min_width": null,
            "object_fit": null,
            "object_position": null,
            "order": null,
            "overflow": null,
            "overflow_x": null,
            "overflow_y": null,
            "padding": null,
            "right": null,
            "top": null,
            "visibility": null,
            "width": null
          }
        },
        "3635aac1efbb4364b585d47f90130df8": {
          "model_module": "@jupyter-widgets/controls",
          "model_name": "DescriptionStyleModel",
          "model_module_version": "1.5.0",
          "state": {
            "_model_module": "@jupyter-widgets/controls",
            "_model_module_version": "1.5.0",
            "_model_name": "DescriptionStyleModel",
            "_view_count": null,
            "_view_module": "@jupyter-widgets/base",
            "_view_module_version": "1.2.0",
            "_view_name": "StyleView",
            "description_width": ""
          }
        },
        "c30ab885bb254a2ab404cfea5f8b5d9c": {
          "model_module": "@jupyter-widgets/base",
          "model_name": "LayoutModel",
          "model_module_version": "1.2.0",
          "state": {
            "_model_module": "@jupyter-widgets/base",
            "_model_module_version": "1.2.0",
            "_model_name": "LayoutModel",
            "_view_count": null,
            "_view_module": "@jupyter-widgets/base",
            "_view_module_version": "1.2.0",
            "_view_name": "LayoutView",
            "align_content": null,
            "align_items": null,
            "align_self": null,
            "border": null,
            "bottom": null,
            "display": null,
            "flex": null,
            "flex_flow": null,
            "grid_area": null,
            "grid_auto_columns": null,
            "grid_auto_flow": null,
            "grid_auto_rows": null,
            "grid_column": null,
            "grid_gap": null,
            "grid_row": null,
            "grid_template_areas": null,
            "grid_template_columns": null,
            "grid_template_rows": null,
            "height": null,
            "justify_content": null,
            "justify_items": null,
            "left": null,
            "margin": null,
            "max_height": null,
            "max_width": null,
            "min_height": null,
            "min_width": null,
            "object_fit": null,
            "object_position": null,
            "order": null,
            "overflow": null,
            "overflow_x": null,
            "overflow_y": null,
            "padding": null,
            "right": null,
            "top": null,
            "visibility": null,
            "width": null
          }
        },
        "976b5b3dabae4e329d243795f2f5a621": {
          "model_module": "@jupyter-widgets/controls",
          "model_name": "ProgressStyleModel",
          "model_module_version": "1.5.0",
          "state": {
            "_model_module": "@jupyter-widgets/controls",
            "_model_module_version": "1.5.0",
            "_model_name": "ProgressStyleModel",
            "_view_count": null,
            "_view_module": "@jupyter-widgets/base",
            "_view_module_version": "1.2.0",
            "_view_name": "StyleView",
            "bar_color": null,
            "description_width": ""
          }
        },
        "15bdc4012d97406fb48fc6ddc8aff6e1": {
          "model_module": "@jupyter-widgets/base",
          "model_name": "LayoutModel",
          "model_module_version": "1.2.0",
          "state": {
            "_model_module": "@jupyter-widgets/base",
            "_model_module_version": "1.2.0",
            "_model_name": "LayoutModel",
            "_view_count": null,
            "_view_module": "@jupyter-widgets/base",
            "_view_module_version": "1.2.0",
            "_view_name": "LayoutView",
            "align_content": null,
            "align_items": null,
            "align_self": null,
            "border": null,
            "bottom": null,
            "display": null,
            "flex": null,
            "flex_flow": null,
            "grid_area": null,
            "grid_auto_columns": null,
            "grid_auto_flow": null,
            "grid_auto_rows": null,
            "grid_column": null,
            "grid_gap": null,
            "grid_row": null,
            "grid_template_areas": null,
            "grid_template_columns": null,
            "grid_template_rows": null,
            "height": null,
            "justify_content": null,
            "justify_items": null,
            "left": null,
            "margin": null,
            "max_height": null,
            "max_width": null,
            "min_height": null,
            "min_width": null,
            "object_fit": null,
            "object_position": null,
            "order": null,
            "overflow": null,
            "overflow_x": null,
            "overflow_y": null,
            "padding": null,
            "right": null,
            "top": null,
            "visibility": null,
            "width": null
          }
        },
        "b3cd481c9f034662bf6eaf8acb4dfd2b": {
          "model_module": "@jupyter-widgets/controls",
          "model_name": "DescriptionStyleModel",
          "model_module_version": "1.5.0",
          "state": {
            "_model_module": "@jupyter-widgets/controls",
            "_model_module_version": "1.5.0",
            "_model_name": "DescriptionStyleModel",
            "_view_count": null,
            "_view_module": "@jupyter-widgets/base",
            "_view_module_version": "1.2.0",
            "_view_name": "StyleView",
            "description_width": ""
          }
        },
        "dfbed8b0b3d14863ade9e9298bc9334c": {
          "model_module": "@jupyter-widgets/controls",
          "model_name": "HBoxModel",
          "model_module_version": "1.5.0",
          "state": {
            "_dom_classes": [],
            "_model_module": "@jupyter-widgets/controls",
            "_model_module_version": "1.5.0",
            "_model_name": "HBoxModel",
            "_view_count": null,
            "_view_module": "@jupyter-widgets/controls",
            "_view_module_version": "1.5.0",
            "_view_name": "HBoxView",
            "box_style": "",
            "children": [
              "IPY_MODEL_fcaab545878543f4afe62acbc63a1a40",
              "IPY_MODEL_c8e73149aace4553b06218d1d40dbea6",
              "IPY_MODEL_79fb27b8281b4523b95affac38d1c3c5"
            ],
            "layout": "IPY_MODEL_66351f0916e84aecbeee7394d5a378a9"
          }
        },
        "fcaab545878543f4afe62acbc63a1a40": {
          "model_module": "@jupyter-widgets/controls",
          "model_name": "HTMLModel",
          "model_module_version": "1.5.0",
          "state": {
            "_dom_classes": [],
            "_model_module": "@jupyter-widgets/controls",
            "_model_module_version": "1.5.0",
            "_model_name": "HTMLModel",
            "_view_count": null,
            "_view_module": "@jupyter-widgets/controls",
            "_view_module_version": "1.5.0",
            "_view_name": "HTMLView",
            "description": "",
            "description_tooltip": null,
            "layout": "IPY_MODEL_18266b5986ba4e47acb7ed8dc87f3f45",
            "placeholder": "​",
            "style": "IPY_MODEL_a45e4600bf604f45a4023e0006ded743",
            "value": "Map: 100%"
          }
        },
        "c8e73149aace4553b06218d1d40dbea6": {
          "model_module": "@jupyter-widgets/controls",
          "model_name": "FloatProgressModel",
          "model_module_version": "1.5.0",
          "state": {
            "_dom_classes": [],
            "_model_module": "@jupyter-widgets/controls",
            "_model_module_version": "1.5.0",
            "_model_name": "FloatProgressModel",
            "_view_count": null,
            "_view_module": "@jupyter-widgets/controls",
            "_view_module_version": "1.5.0",
            "_view_name": "ProgressView",
            "bar_style": "",
            "description": "",
            "description_tooltip": null,
            "layout": "IPY_MODEL_933c07119a904ddeb3e2ad9af2eee299",
            "max": 22,
            "min": 0,
            "orientation": "horizontal",
            "style": "IPY_MODEL_6ccd5e842c484484a4d848312dc23999",
            "value": 22
          }
        },
        "79fb27b8281b4523b95affac38d1c3c5": {
          "model_module": "@jupyter-widgets/controls",
          "model_name": "HTMLModel",
          "model_module_version": "1.5.0",
          "state": {
            "_dom_classes": [],
            "_model_module": "@jupyter-widgets/controls",
            "_model_module_version": "1.5.0",
            "_model_name": "HTMLModel",
            "_view_count": null,
            "_view_module": "@jupyter-widgets/controls",
            "_view_module_version": "1.5.0",
            "_view_name": "HTMLView",
            "description": "",
            "description_tooltip": null,
            "layout": "IPY_MODEL_7536b5c216b04269b30d3fe44fbfeeaf",
            "placeholder": "​",
            "style": "IPY_MODEL_1d8792bf1d304594b2d782771116f1f1",
            "value": " 22/22 [00:00&lt;00:00, 70.90 examples/s]"
          }
        },
        "66351f0916e84aecbeee7394d5a378a9": {
          "model_module": "@jupyter-widgets/base",
          "model_name": "LayoutModel",
          "model_module_version": "1.2.0",
          "state": {
            "_model_module": "@jupyter-widgets/base",
            "_model_module_version": "1.2.0",
            "_model_name": "LayoutModel",
            "_view_count": null,
            "_view_module": "@jupyter-widgets/base",
            "_view_module_version": "1.2.0",
            "_view_name": "LayoutView",
            "align_content": null,
            "align_items": null,
            "align_self": null,
            "border": null,
            "bottom": null,
            "display": null,
            "flex": null,
            "flex_flow": null,
            "grid_area": null,
            "grid_auto_columns": null,
            "grid_auto_flow": null,
            "grid_auto_rows": null,
            "grid_column": null,
            "grid_gap": null,
            "grid_row": null,
            "grid_template_areas": null,
            "grid_template_columns": null,
            "grid_template_rows": null,
            "height": null,
            "justify_content": null,
            "justify_items": null,
            "left": null,
            "margin": null,
            "max_height": null,
            "max_width": null,
            "min_height": null,
            "min_width": null,
            "object_fit": null,
            "object_position": null,
            "order": null,
            "overflow": null,
            "overflow_x": null,
            "overflow_y": null,
            "padding": null,
            "right": null,
            "top": null,
            "visibility": "hidden",
            "width": null
          }
        },
        "18266b5986ba4e47acb7ed8dc87f3f45": {
          "model_module": "@jupyter-widgets/base",
          "model_name": "LayoutModel",
          "model_module_version": "1.2.0",
          "state": {
            "_model_module": "@jupyter-widgets/base",
            "_model_module_version": "1.2.0",
            "_model_name": "LayoutModel",
            "_view_count": null,
            "_view_module": "@jupyter-widgets/base",
            "_view_module_version": "1.2.0",
            "_view_name": "LayoutView",
            "align_content": null,
            "align_items": null,
            "align_self": null,
            "border": null,
            "bottom": null,
            "display": null,
            "flex": null,
            "flex_flow": null,
            "grid_area": null,
            "grid_auto_columns": null,
            "grid_auto_flow": null,
            "grid_auto_rows": null,
            "grid_column": null,
            "grid_gap": null,
            "grid_row": null,
            "grid_template_areas": null,
            "grid_template_columns": null,
            "grid_template_rows": null,
            "height": null,
            "justify_content": null,
            "justify_items": null,
            "left": null,
            "margin": null,
            "max_height": null,
            "max_width": null,
            "min_height": null,
            "min_width": null,
            "object_fit": null,
            "object_position": null,
            "order": null,
            "overflow": null,
            "overflow_x": null,
            "overflow_y": null,
            "padding": null,
            "right": null,
            "top": null,
            "visibility": null,
            "width": null
          }
        },
        "a45e4600bf604f45a4023e0006ded743": {
          "model_module": "@jupyter-widgets/controls",
          "model_name": "DescriptionStyleModel",
          "model_module_version": "1.5.0",
          "state": {
            "_model_module": "@jupyter-widgets/controls",
            "_model_module_version": "1.5.0",
            "_model_name": "DescriptionStyleModel",
            "_view_count": null,
            "_view_module": "@jupyter-widgets/base",
            "_view_module_version": "1.2.0",
            "_view_name": "StyleView",
            "description_width": ""
          }
        },
        "933c07119a904ddeb3e2ad9af2eee299": {
          "model_module": "@jupyter-widgets/base",
          "model_name": "LayoutModel",
          "model_module_version": "1.2.0",
          "state": {
            "_model_module": "@jupyter-widgets/base",
            "_model_module_version": "1.2.0",
            "_model_name": "LayoutModel",
            "_view_count": null,
            "_view_module": "@jupyter-widgets/base",
            "_view_module_version": "1.2.0",
            "_view_name": "LayoutView",
            "align_content": null,
            "align_items": null,
            "align_self": null,
            "border": null,
            "bottom": null,
            "display": null,
            "flex": null,
            "flex_flow": null,
            "grid_area": null,
            "grid_auto_columns": null,
            "grid_auto_flow": null,
            "grid_auto_rows": null,
            "grid_column": null,
            "grid_gap": null,
            "grid_row": null,
            "grid_template_areas": null,
            "grid_template_columns": null,
            "grid_template_rows": null,
            "height": null,
            "justify_content": null,
            "justify_items": null,
            "left": null,
            "margin": null,
            "max_height": null,
            "max_width": null,
            "min_height": null,
            "min_width": null,
            "object_fit": null,
            "object_position": null,
            "order": null,
            "overflow": null,
            "overflow_x": null,
            "overflow_y": null,
            "padding": null,
            "right": null,
            "top": null,
            "visibility": null,
            "width": null
          }
        },
        "6ccd5e842c484484a4d848312dc23999": {
          "model_module": "@jupyter-widgets/controls",
          "model_name": "ProgressStyleModel",
          "model_module_version": "1.5.0",
          "state": {
            "_model_module": "@jupyter-widgets/controls",
            "_model_module_version": "1.5.0",
            "_model_name": "ProgressStyleModel",
            "_view_count": null,
            "_view_module": "@jupyter-widgets/base",
            "_view_module_version": "1.2.0",
            "_view_name": "StyleView",
            "bar_color": null,
            "description_width": ""
          }
        },
        "7536b5c216b04269b30d3fe44fbfeeaf": {
          "model_module": "@jupyter-widgets/base",
          "model_name": "LayoutModel",
          "model_module_version": "1.2.0",
          "state": {
            "_model_module": "@jupyter-widgets/base",
            "_model_module_version": "1.2.0",
            "_model_name": "LayoutModel",
            "_view_count": null,
            "_view_module": "@jupyter-widgets/base",
            "_view_module_version": "1.2.0",
            "_view_name": "LayoutView",
            "align_content": null,
            "align_items": null,
            "align_self": null,
            "border": null,
            "bottom": null,
            "display": null,
            "flex": null,
            "flex_flow": null,
            "grid_area": null,
            "grid_auto_columns": null,
            "grid_auto_flow": null,
            "grid_auto_rows": null,
            "grid_column": null,
            "grid_gap": null,
            "grid_row": null,
            "grid_template_areas": null,
            "grid_template_columns": null,
            "grid_template_rows": null,
            "height": null,
            "justify_content": null,
            "justify_items": null,
            "left": null,
            "margin": null,
            "max_height": null,
            "max_width": null,
            "min_height": null,
            "min_width": null,
            "object_fit": null,
            "object_position": null,
            "order": null,
            "overflow": null,
            "overflow_x": null,
            "overflow_y": null,
            "padding": null,
            "right": null,
            "top": null,
            "visibility": null,
            "width": null
          }
        },
        "1d8792bf1d304594b2d782771116f1f1": {
          "model_module": "@jupyter-widgets/controls",
          "model_name": "DescriptionStyleModel",
          "model_module_version": "1.5.0",
          "state": {
            "_model_module": "@jupyter-widgets/controls",
            "_model_module_version": "1.5.0",
            "_model_name": "DescriptionStyleModel",
            "_view_count": null,
            "_view_module": "@jupyter-widgets/base",
            "_view_module_version": "1.2.0",
            "_view_name": "StyleView",
            "description_width": ""
          }
        }
      }
    }
  },
  "nbformat": 4,
  "nbformat_minor": 5
}